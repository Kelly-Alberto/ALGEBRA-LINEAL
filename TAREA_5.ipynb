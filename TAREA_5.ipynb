{
  "nbformat": 4,
  "nbformat_minor": 0,
  "metadata": {
    "colab": {
      "provenance": [],
      "collapsed_sections": [
        "FHRPTgHWeeDy"
      ]
    },
    "kernelspec": {
      "name": "python3",
      "display_name": "Python 3"
    },
    "language_info": {
      "name": "python"
    }
  },
  "cells": [
    {
      "cell_type": "code",
      "execution_count": null,
      "metadata": {
        "colab": {
          "base_uri": "https://localhost:8080/"
        },
        "id": "T9mcRMDLVpzh",
        "outputId": "641a9663-4c35-4f31-c0b8-f7c4aa87753d"
      },
      "outputs": [
        {
          "output_type": "stream",
          "name": "stdout",
          "text": [
            "Requirement already satisfied: nacal in /usr/local/lib/python3.10/dist-packages (0.2.1)\n",
            "Requirement already satisfied: sympy>=1.1.0 in /usr/local/lib/python3.10/dist-packages (from nacal) (1.12)\n",
            "Requirement already satisfied: mpmath>=0.19 in /usr/local/lib/python3.10/dist-packages (from sympy>=1.1.0->nacal) (1.3.0)\n"
          ]
        }
      ],
      "source": [
        "!pip install --target=$nb_path nacal\n",
        "from nacal import *"
      ]
    },
    {
      "cell_type": "markdown",
      "source": [
        "##Ejercicio 1"
      ],
      "metadata": {
        "id": "McQ9dh2RebZO"
      }
    },
    {
      "cell_type": "markdown",
      "source": [
        "1. Para la siguiente matriz $$\\left[ \\begin{array}{cccc}3&-2&2&1\\\\1&-1&-1&-3\\\\2&1&2&4\\\\4&-4&1&2\\\\ \\end{array} \\right]$$ lleva a cabo el algoritmo de eliminación paso a paso.\n",
        "\n",
        "Escribe en una celda separada cada operacion elemental."
      ],
      "metadata": {
        "id": "hBXBxw0VcrAh"
      }
    },
    {
      "cell_type": "code",
      "source": [
        "w= Vector((3,1,1,4)); x=Vector((-2,-1,1,-4)); y= Vector((2,-1,2,1)); z= Vector((1,-3,4,2))\n",
        "M= Matrix([w,x,y,z])\n",
        "M"
      ],
      "metadata": {
        "colab": {
          "base_uri": "https://localhost:8080/",
          "height": 46
        },
        "id": "UrodwbpKY8_C",
        "outputId": "9351203d-589c-407f-fb2d-03a9d6025444"
      },
      "execution_count": null,
      "outputs": [
        {
          "output_type": "execute_result",
          "data": {
            "text/plain": [
              "Matrix([Vector([3, 1, 1, 4]), Vector([-2, -1, 1, -4]), Vector([2, -1, 2, 1]), Vector([1, -3, 4, 2])])"
            ],
            "text/html": [
              "<p style=\"text-align:center;\">$\\left[ \\begin{array}{cccc}3&-2&2&1\\\\1&-1&-1&-3\\\\1&1&2&4\\\\4&-4&1&2\\\\ \\end{array} \\right]$</p>"
            ],
            "image/png": "$\\left[ \\begin{array}{cccc}3&-2&2&1\\\\1&-1&-1&-3\\\\1&1&2&4\\\\4&-4&1&2\\\\ \\end{array} \\right]$",
            "text/latex": "$\\left[ \\begin{array}{cccc}3&-2&2&1\\\\1&-1&-1&-3\\\\1&1&2&4\\\\4&-4&1&2\\\\ \\end{array} \\right]$"
          },
          "metadata": {},
          "execution_count": 83
        }
      ]
    },
    {
      "cell_type": "markdown",
      "source": [
        "$\\left[ \\begin{array}{cccc}3&-2&2&1\\\\1&-1&-1&-3\\\\1&1&2&4\\\\4&-4&1&2\\\\ \\end{array} \\right]$"
      ],
      "metadata": {
        "id": "2ydKbc6zZakD"
      }
    },
    {
      "cell_type": "code",
      "source": [
        "M&T((fracc(1,3),1))"
      ],
      "metadata": {
        "colab": {
          "base_uri": "https://localhost:8080/",
          "height": 46
        },
        "id": "65PnBvKeZy7z",
        "outputId": "031cbcc9-6029-4381-d633-08f924154198"
      },
      "execution_count": null,
      "outputs": [
        {
          "output_type": "execute_result",
          "data": {
            "text/plain": [
              "Matrix([Vector([1, 1/3, 1/3, 4/3]), Vector([-2, -1, 1, -4]), Vector([2, -1, 2, 1]), Vector([1, -3, 4, 2])])"
            ],
            "text/html": [
              "<p style=\"text-align:center;\">$\\left[ \\begin{array}{cccc}1&-2&2&1\\\\\\frac{1}{3}&-1&-1&-3\\\\\\frac{1}{3}&1&2&4\\\\\\frac{4}{3}&-4&1&2\\\\ \\end{array} \\right]$</p>"
            ],
            "image/png": "$\\left[ \\begin{array}{cccc}1&-2&2&1\\\\\\frac{1}{3}&-1&-1&-3\\\\\\frac{1}{3}&1&2&4\\\\\\frac{4}{3}&-4&1&2\\\\ \\end{array} \\right]$",
            "text/latex": "$\\left[ \\begin{array}{cccc}1&-2&2&1\\\\\\frac{1}{3}&-1&-1&-3\\\\\\frac{1}{3}&1&2&4\\\\\\frac{4}{3}&-4&1&2\\\\ \\end{array} \\right]$"
          },
          "metadata": {},
          "execution_count": 84
        }
      ]
    },
    {
      "cell_type": "markdown",
      "source": [
        "$\\left[ \\begin{array}{cccc}1&-2&2&1\\\\\\frac{1}{3}&-1&-1&-3\\\\\\frac{1}{3}&1&2&4\\\\\\frac{4}{3}&-4&1&2\\\\ \\end{array} \\right]$"
      ],
      "metadata": {
        "id": "VXaotBRjZ1nC"
      }
    },
    {
      "cell_type": "code",
      "source": [
        "M&T((2,1,2))"
      ],
      "metadata": {
        "colab": {
          "base_uri": "https://localhost:8080/",
          "height": 46
        },
        "id": "AwZg4GuzaCiU",
        "outputId": "11a9121e-2729-4eeb-a7ed-bacffe7897cb"
      },
      "execution_count": null,
      "outputs": [
        {
          "output_type": "execute_result",
          "data": {
            "text/plain": [
              "Matrix([Vector([1, 1/3, 1/3, 4/3]), Vector([0, -1/3, 5/3, -4/3]), Vector([2, -1, 2, 1]), Vector([1, -3, 4, 2])])"
            ],
            "text/html": [
              "<p style=\"text-align:center;\">$\\left[ \\begin{array}{cccc}1&0&2&1\\\\\\frac{1}{3}&- \\frac{1}{3}&-1&-3\\\\\\frac{1}{3}&\\frac{5}{3}&2&4\\\\\\frac{4}{3}&- \\frac{4}{3}&1&2\\\\ \\end{array} \\right]$</p>"
            ],
            "image/png": "$\\left[ \\begin{array}{cccc}1&0&2&1\\\\\\frac{1}{3}&- \\frac{1}{3}&-1&-3\\\\\\frac{1}{3}&\\frac{5}{3}&2&4\\\\\\frac{4}{3}&- \\frac{4}{3}&1&2\\\\ \\end{array} \\right]$",
            "text/latex": "$\\left[ \\begin{array}{cccc}1&0&2&1\\\\\\frac{1}{3}&- \\frac{1}{3}&-1&-3\\\\\\frac{1}{3}&\\frac{5}{3}&2&4\\\\\\frac{4}{3}&- \\frac{4}{3}&1&2\\\\ \\end{array} \\right]$"
          },
          "metadata": {},
          "execution_count": 85
        }
      ]
    },
    {
      "cell_type": "markdown",
      "source": [
        "$\\left[ \\begin{array}{cccc}1&0&2&1\\\\\\frac{1}{3}&- \\frac{1}{3}&-1&-3\\\\\\frac{1}{3}&\\frac{5}{3}&2&4\\\\\\frac{4}{3}&- \\frac{4}{3}&1&2\\\\ \\end{array} \\right]$"
      ],
      "metadata": {
        "id": "MG9sngkJaH3k"
      }
    },
    {
      "cell_type": "code",
      "source": [
        "M&T((-2,1,3))"
      ],
      "metadata": {
        "colab": {
          "base_uri": "https://localhost:8080/",
          "height": 46
        },
        "id": "i17UtoQwaWL6",
        "outputId": "e7eda876-dd0b-4f52-87d1-963491201c66"
      },
      "execution_count": null,
      "outputs": [
        {
          "output_type": "execute_result",
          "data": {
            "text/plain": [
              "Matrix([Vector([1, 1/3, 1/3, 4/3]), Vector([0, -1/3, 5/3, -4/3]), Vector([0, -5/3, 4/3, -5/3]), Vector([1, -3, 4, 2])])"
            ],
            "text/html": [
              "<p style=\"text-align:center;\">$\\left[ \\begin{array}{cccc}1&0&0&1\\\\\\frac{1}{3}&- \\frac{1}{3}&- \\frac{5}{3}&-3\\\\\\frac{1}{3}&\\frac{5}{3}&\\frac{4}{3}&4\\\\\\frac{4}{3}&- \\frac{4}{3}&- \\frac{5}{3}&2\\\\ \\end{array} \\right]$</p>"
            ],
            "image/png": "$\\left[ \\begin{array}{cccc}1&0&0&1\\\\\\frac{1}{3}&- \\frac{1}{3}&- \\frac{5}{3}&-3\\\\\\frac{1}{3}&\\frac{5}{3}&\\frac{4}{3}&4\\\\\\frac{4}{3}&- \\frac{4}{3}&- \\frac{5}{3}&2\\\\ \\end{array} \\right]$",
            "text/latex": "$\\left[ \\begin{array}{cccc}1&0&0&1\\\\\\frac{1}{3}&- \\frac{1}{3}&- \\frac{5}{3}&-3\\\\\\frac{1}{3}&\\frac{5}{3}&\\frac{4}{3}&4\\\\\\frac{4}{3}&- \\frac{4}{3}&- \\frac{5}{3}&2\\\\ \\end{array} \\right]$"
          },
          "metadata": {},
          "execution_count": 86
        }
      ]
    },
    {
      "cell_type": "markdown",
      "source": [
        "$\\left[ \\begin{array}{cccc}1&0&0&1\\\\\\frac{1}{3}&- \\frac{1}{3}&- \\frac{5}{3}&-3\\\\\\frac{1}{3}&\\frac{5}{3}&\\frac{4}{3}&4\\\\\\frac{4}{3}&- \\frac{4}{3}&- \\frac{5}{3}&2\\\\ \\end{array} \\right]$"
      ],
      "metadata": {
        "id": "il8KkLqGaZ0a"
      }
    },
    {
      "cell_type": "code",
      "source": [
        "M&T((-1,1,4))"
      ],
      "metadata": {
        "colab": {
          "base_uri": "https://localhost:8080/",
          "height": 46
        },
        "id": "SGxKehXWaboa",
        "outputId": "7c1146dd-e1c1-431d-f338-1a04177d5e65"
      },
      "execution_count": null,
      "outputs": [
        {
          "output_type": "execute_result",
          "data": {
            "text/plain": [
              "Matrix([Vector([1, 1/3, 1/3, 4/3]), Vector([0, -1/3, 5/3, -4/3]), Vector([0, -5/3, 4/3, -5/3]), Vector([0, -10/3, 11/3, 2/3])])"
            ],
            "text/html": [
              "<p style=\"text-align:center;\">$\\left[ \\begin{array}{cccc}1&0&0&0\\\\\\frac{1}{3}&- \\frac{1}{3}&- \\frac{5}{3}&- \\frac{10}{3}\\\\\\frac{1}{3}&\\frac{5}{3}&\\frac{4}{3}&\\frac{11}{3}\\\\\\frac{4}{3}&- \\frac{4}{3}&- \\frac{5}{3}&\\frac{2}{3}\\\\ \\end{array} \\right]$</p>"
            ],
            "image/png": "$\\left[ \\begin{array}{cccc}1&0&0&0\\\\\\frac{1}{3}&- \\frac{1}{3}&- \\frac{5}{3}&- \\frac{10}{3}\\\\\\frac{1}{3}&\\frac{5}{3}&\\frac{4}{3}&\\frac{11}{3}\\\\\\frac{4}{3}&- \\frac{4}{3}&- \\frac{5}{3}&\\frac{2}{3}\\\\ \\end{array} \\right]$",
            "text/latex": "$\\left[ \\begin{array}{cccc}1&0&0&0\\\\\\frac{1}{3}&- \\frac{1}{3}&- \\frac{5}{3}&- \\frac{10}{3}\\\\\\frac{1}{3}&\\frac{5}{3}&\\frac{4}{3}&\\frac{11}{3}\\\\\\frac{4}{3}&- \\frac{4}{3}&- \\frac{5}{3}&\\frac{2}{3}\\\\ \\end{array} \\right]$"
          },
          "metadata": {},
          "execution_count": 87
        }
      ]
    },
    {
      "cell_type": "markdown",
      "source": [
        "$\\left[ \\begin{array}{cccc}1&0&0&0\\\\\\frac{1}{3}&- \\frac{1}{3}&- \\frac{5}{3}&- \\frac{10}{3}\\\\\\frac{1}{3}&\\frac{5}{3}&\\frac{4}{3}&\\frac{11}{3}\\\\\\frac{4}{3}&- \\frac{4}{3}&- \\frac{5}{3}&\\frac{2}{3}\\\\ \\end{array} \\right]$"
      ],
      "metadata": {
        "id": "BCJdB3Axafby"
      }
    },
    {
      "cell_type": "code",
      "source": [
        "M&T((-fracc(3,1),2))"
      ],
      "metadata": {
        "colab": {
          "base_uri": "https://localhost:8080/",
          "height": 46
        },
        "id": "c-xBdVjcasoK",
        "outputId": "d665c601-35f2-43b7-8a99-6ef5adf64349"
      },
      "execution_count": null,
      "outputs": [
        {
          "output_type": "execute_result",
          "data": {
            "text/plain": [
              "Matrix([Vector([1, 1/3, 1/3, 4/3]), Vector([0, 1, -5, 4]), Vector([0, -5/3, 4/3, -5/3]), Vector([0, -10/3, 11/3, 2/3])])"
            ],
            "text/html": [
              "<p style=\"text-align:center;\">$\\left[ \\begin{array}{cccc}1&0&0&0\\\\\\frac{1}{3}&1&- \\frac{5}{3}&- \\frac{10}{3}\\\\\\frac{1}{3}&-5&\\frac{4}{3}&\\frac{11}{3}\\\\\\frac{4}{3}&4&- \\frac{5}{3}&\\frac{2}{3}\\\\ \\end{array} \\right]$</p>"
            ],
            "image/png": "$\\left[ \\begin{array}{cccc}1&0&0&0\\\\\\frac{1}{3}&1&- \\frac{5}{3}&- \\frac{10}{3}\\\\\\frac{1}{3}&-5&\\frac{4}{3}&\\frac{11}{3}\\\\\\frac{4}{3}&4&- \\frac{5}{3}&\\frac{2}{3}\\\\ \\end{array} \\right]$",
            "text/latex": "$\\left[ \\begin{array}{cccc}1&0&0&0\\\\\\frac{1}{3}&1&- \\frac{5}{3}&- \\frac{10}{3}\\\\\\frac{1}{3}&-5&\\frac{4}{3}&\\frac{11}{3}\\\\\\frac{4}{3}&4&- \\frac{5}{3}&\\frac{2}{3}\\\\ \\end{array} \\right]$"
          },
          "metadata": {},
          "execution_count": 88
        }
      ]
    },
    {
      "cell_type": "markdown",
      "source": [
        "$\\left[ \\begin{array}{cccc}1&0&0&0\\\\\\frac{1}{3}&1&- \\frac{5}{3}&- \\frac{10}{3}\\\\\\frac{1}{3}&-5&\\frac{4}{3}&\\frac{11}{3}\\\\\\frac{4}{3}&4&- \\frac{5}{3}&\\frac{2}{3}\\\\ \\end{array} \\right]$"
      ],
      "metadata": {
        "id": "enjXqmTga8WT"
      }
    },
    {
      "cell_type": "code",
      "source": [
        "M&T((-fracc(1,3),2,1))"
      ],
      "metadata": {
        "colab": {
          "base_uri": "https://localhost:8080/",
          "height": 46
        },
        "id": "IIZYVOsUbOqz",
        "outputId": "2296a25e-8fbc-4bae-a489-0879485ea07a"
      },
      "execution_count": null,
      "outputs": [
        {
          "output_type": "execute_result",
          "data": {
            "text/plain": [
              "Matrix([Vector([1, 0, 2, 0]), Vector([0, 1, -5, 4]), Vector([0, -5/3, 4/3, -5/3]), Vector([0, -10/3, 11/3, 2/3])])"
            ],
            "text/html": [
              "<p style=\"text-align:center;\">$\\left[ \\begin{array}{cccc}1&0&0&0\\\\0&1&- \\frac{5}{3}&- \\frac{10}{3}\\\\2&-5&\\frac{4}{3}&\\frac{11}{3}\\\\0&4&- \\frac{5}{3}&\\frac{2}{3}\\\\ \\end{array} \\right]$</p>"
            ],
            "image/png": "$\\left[ \\begin{array}{cccc}1&0&0&0\\\\0&1&- \\frac{5}{3}&- \\frac{10}{3}\\\\2&-5&\\frac{4}{3}&\\frac{11}{3}\\\\0&4&- \\frac{5}{3}&\\frac{2}{3}\\\\ \\end{array} \\right]$",
            "text/latex": "$\\left[ \\begin{array}{cccc}1&0&0&0\\\\0&1&- \\frac{5}{3}&- \\frac{10}{3}\\\\2&-5&\\frac{4}{3}&\\frac{11}{3}\\\\0&4&- \\frac{5}{3}&\\frac{2}{3}\\\\ \\end{array} \\right]$"
          },
          "metadata": {},
          "execution_count": 89
        }
      ]
    },
    {
      "cell_type": "markdown",
      "source": [
        "$\\left[ \\begin{array}{cccc}1&0&0&0\\\\0&1&- \\frac{5}{3}&- \\frac{10}{3}\\\\2&-5&\\frac{4}{3}&\\frac{11}{3}\\\\0&4&- \\frac{5}{3}&\\frac{2}{3}\\\\ \\end{array} \\right]$"
      ],
      "metadata": {
        "id": "18pbvj4-bYn1"
      }
    },
    {
      "cell_type": "code",
      "source": [
        "M&T((fracc(5,3),2,3))"
      ],
      "metadata": {
        "colab": {
          "base_uri": "https://localhost:8080/",
          "height": 46
        },
        "id": "WBsBmiEBcANL",
        "outputId": "40b50fa3-df8a-452f-f5c5-556e5de1dc9b"
      },
      "execution_count": null,
      "outputs": [
        {
          "output_type": "execute_result",
          "data": {
            "text/plain": [
              "Matrix([Vector([1, 0, 2, 0]), Vector([0, 1, -5, 4]), Vector([0, 0, -7, 5]), Vector([0, -10/3, 11/3, 2/3])])"
            ],
            "text/html": [
              "<p style=\"text-align:center;\">$\\left[ \\begin{array}{cccc}1&0&0&0\\\\0&1&0&- \\frac{10}{3}\\\\2&-5&-7&\\frac{11}{3}\\\\0&4&5&\\frac{2}{3}\\\\ \\end{array} \\right]$</p>"
            ],
            "image/png": "$\\left[ \\begin{array}{cccc}1&0&0&0\\\\0&1&0&- \\frac{10}{3}\\\\2&-5&-7&\\frac{11}{3}\\\\0&4&5&\\frac{2}{3}\\\\ \\end{array} \\right]$",
            "text/latex": "$\\left[ \\begin{array}{cccc}1&0&0&0\\\\0&1&0&- \\frac{10}{3}\\\\2&-5&-7&\\frac{11}{3}\\\\0&4&5&\\frac{2}{3}\\\\ \\end{array} \\right]$"
          },
          "metadata": {},
          "execution_count": 90
        }
      ]
    },
    {
      "cell_type": "markdown",
      "source": [
        "$\\left[ \\begin{array}{cccc}1&0&0&0\\\\0&1&0&- \\frac{10}{3}\\\\2&-5&-7&\\frac{11}{3}\\\\0&4&5&\\frac{2}{3}\\\\ \\end{array} \\right]$"
      ],
      "metadata": {
        "id": "GD5R7K3jcEZT"
      }
    },
    {
      "cell_type": "code",
      "source": [
        "M&T((fracc(10,3),2,4))"
      ],
      "metadata": {
        "colab": {
          "base_uri": "https://localhost:8080/",
          "height": 46
        },
        "id": "Q4GPOtjzcGF9",
        "outputId": "1dfb619a-0d19-47f4-c5a0-4bd748acbede"
      },
      "execution_count": null,
      "outputs": [
        {
          "output_type": "execute_result",
          "data": {
            "text/plain": [
              "Matrix([Vector([1, 0, 2, 0]), Vector([0, 1, -5, 4]), Vector([0, 0, -7, 5]), Vector([0, 0, -13, 14])])"
            ],
            "text/html": [
              "<p style=\"text-align:center;\">$\\left[ \\begin{array}{cccc}1&0&0&0\\\\0&1&0&0\\\\2&-5&-7&-13\\\\0&4&5&14\\\\ \\end{array} \\right]$</p>"
            ],
            "image/png": "$\\left[ \\begin{array}{cccc}1&0&0&0\\\\0&1&0&0\\\\2&-5&-7&-13\\\\0&4&5&14\\\\ \\end{array} \\right]$",
            "text/latex": "$\\left[ \\begin{array}{cccc}1&0&0&0\\\\0&1&0&0\\\\2&-5&-7&-13\\\\0&4&5&14\\\\ \\end{array} \\right]$"
          },
          "metadata": {},
          "execution_count": 91
        }
      ]
    },
    {
      "cell_type": "markdown",
      "source": [
        "$\\left[ \\begin{array}{cccc}1&0&0&0\\\\0&1&0&0\\\\2&-5&-7&-13\\\\0&4&5&14\\\\ \\end{array} \\right]$"
      ],
      "metadata": {
        "id": "O29nOBLEcLa6"
      }
    },
    {
      "cell_type": "code",
      "source": [
        "M&T((-fracc(1,7),3))"
      ],
      "metadata": {
        "colab": {
          "base_uri": "https://localhost:8080/",
          "height": 46
        },
        "id": "iF4QFXv6cZpE",
        "outputId": "cf95ad5b-32ca-44f1-d833-9825e2648d7d"
      },
      "execution_count": null,
      "outputs": [
        {
          "output_type": "execute_result",
          "data": {
            "text/plain": [
              "Matrix([Vector([1, 0, 2, 0]), Vector([0, 1, -5, 4]), Vector([0, 0, 1, -5/7]), Vector([0, 0, -13, 14])])"
            ],
            "text/html": [
              "<p style=\"text-align:center;\">$\\left[ \\begin{array}{cccc}1&0&0&0\\\\0&1&0&0\\\\2&-5&1&-13\\\\0&4&- \\frac{5}{7}&14\\\\ \\end{array} \\right]$</p>"
            ],
            "image/png": "$\\left[ \\begin{array}{cccc}1&0&0&0\\\\0&1&0&0\\\\2&-5&1&-13\\\\0&4&- \\frac{5}{7}&14\\\\ \\end{array} \\right]$",
            "text/latex": "$\\left[ \\begin{array}{cccc}1&0&0&0\\\\0&1&0&0\\\\2&-5&1&-13\\\\0&4&- \\frac{5}{7}&14\\\\ \\end{array} \\right]$"
          },
          "metadata": {},
          "execution_count": 92
        }
      ]
    },
    {
      "cell_type": "markdown",
      "source": [
        "$\\left[ \\begin{array}{cccc}1&0&0&0\\\\0&1&0&0\\\\2&-5&1&-13\\\\0&4&- \\frac{5}{7}&14\\\\ \\end{array} \\right]$"
      ],
      "metadata": {
        "id": "a7_0YYw2ckXq"
      }
    },
    {
      "cell_type": "code",
      "source": [
        "M&T((-2,3,1))"
      ],
      "metadata": {
        "colab": {
          "base_uri": "https://localhost:8080/",
          "height": 46
        },
        "id": "l3bKgcddcv-7",
        "outputId": "acf3f755-0fee-4b3d-a492-b98987c73856"
      },
      "execution_count": null,
      "outputs": [
        {
          "output_type": "execute_result",
          "data": {
            "text/plain": [
              "Matrix([Vector([1, 0, 0, 10/7]), Vector([0, 1, -5, 4]), Vector([0, 0, 1, -5/7]), Vector([0, 0, -13, 14])])"
            ],
            "text/html": [
              "<p style=\"text-align:center;\">$\\left[ \\begin{array}{cccc}1&0&0&0\\\\0&1&0&0\\\\0&-5&1&-13\\\\\\frac{10}{7}&4&- \\frac{5}{7}&14\\\\ \\end{array} \\right]$</p>"
            ],
            "image/png": "$\\left[ \\begin{array}{cccc}1&0&0&0\\\\0&1&0&0\\\\0&-5&1&-13\\\\\\frac{10}{7}&4&- \\frac{5}{7}&14\\\\ \\end{array} \\right]$",
            "text/latex": "$\\left[ \\begin{array}{cccc}1&0&0&0\\\\0&1&0&0\\\\0&-5&1&-13\\\\\\frac{10}{7}&4&- \\frac{5}{7}&14\\\\ \\end{array} \\right]$"
          },
          "metadata": {},
          "execution_count": 93
        }
      ]
    },
    {
      "cell_type": "markdown",
      "source": [
        "$\\left[ \\begin{array}{cccc}1&0&0&0\\\\0&1&0&0\\\\0&-5&1&-13\\\\\\frac{10}{7}&4&- \\frac{5}{7}&14\\\\ \\end{array} \\right]$"
      ],
      "metadata": {
        "id": "OSotengCc6NL"
      }
    },
    {
      "cell_type": "code",
      "source": [
        "M&T((5,3,2))"
      ],
      "metadata": {
        "colab": {
          "base_uri": "https://localhost:8080/",
          "height": 46
        },
        "id": "e-QGxqLdc8oz",
        "outputId": "5da3df79-f6d6-44df-b5ec-2a98d97a2715"
      },
      "execution_count": null,
      "outputs": [
        {
          "output_type": "execute_result",
          "data": {
            "text/plain": [
              "Matrix([Vector([1, 0, 0, 10/7]), Vector([0, 1, 0, 3/7]), Vector([0, 0, 1, -5/7]), Vector([0, 0, -13, 14])])"
            ],
            "text/html": [
              "<p style=\"text-align:center;\">$\\left[ \\begin{array}{cccc}1&0&0&0\\\\0&1&0&0\\\\0&0&1&-13\\\\\\frac{10}{7}&\\frac{3}{7}&- \\frac{5}{7}&14\\\\ \\end{array} \\right]$</p>"
            ],
            "image/png": "$\\left[ \\begin{array}{cccc}1&0&0&0\\\\0&1&0&0\\\\0&0&1&-13\\\\\\frac{10}{7}&\\frac{3}{7}&- \\frac{5}{7}&14\\\\ \\end{array} \\right]$",
            "text/latex": "$\\left[ \\begin{array}{cccc}1&0&0&0\\\\0&1&0&0\\\\0&0&1&-13\\\\\\frac{10}{7}&\\frac{3}{7}&- \\frac{5}{7}&14\\\\ \\end{array} \\right]$"
          },
          "metadata": {},
          "execution_count": 94
        }
      ]
    },
    {
      "cell_type": "markdown",
      "source": [
        "$\\left[ \\begin{array}{cccc}1&0&0&0\\\\0&1&0&0\\\\0&0&1&-13\\\\\\frac{10}{7}&\\frac{3}{7}&- \\frac{5}{7}&14\\\\ \\end{array} \\right]$"
      ],
      "metadata": {
        "id": "EdYRKkNwdHO6"
      }
    },
    {
      "cell_type": "code",
      "source": [
        "M&T((13,3,4))"
      ],
      "metadata": {
        "colab": {
          "base_uri": "https://localhost:8080/",
          "height": 46
        },
        "id": "VnCFKITJdMB6",
        "outputId": "41ebeee7-5a9b-4b8a-9684-011c05451f7f"
      },
      "execution_count": null,
      "outputs": [
        {
          "output_type": "execute_result",
          "data": {
            "text/plain": [
              "Matrix([Vector([1, 0, 0, 10/7]), Vector([0, 1, 0, 3/7]), Vector([0, 0, 1, -5/7]), Vector([0, 0, 0, 33/7])])"
            ],
            "text/html": [
              "<p style=\"text-align:center;\">$\\left[ \\begin{array}{cccc}1&0&0&0\\\\0&1&0&0\\\\0&0&1&0\\\\\\frac{10}{7}&\\frac{3}{7}&- \\frac{5}{7}&\\frac{33}{7}\\\\ \\end{array} \\right]$</p>"
            ],
            "image/png": "$\\left[ \\begin{array}{cccc}1&0&0&0\\\\0&1&0&0\\\\0&0&1&0\\\\\\frac{10}{7}&\\frac{3}{7}&- \\frac{5}{7}&\\frac{33}{7}\\\\ \\end{array} \\right]$",
            "text/latex": "$\\left[ \\begin{array}{cccc}1&0&0&0\\\\0&1&0&0\\\\0&0&1&0\\\\\\frac{10}{7}&\\frac{3}{7}&- \\frac{5}{7}&\\frac{33}{7}\\\\ \\end{array} \\right]$"
          },
          "metadata": {},
          "execution_count": 95
        }
      ]
    },
    {
      "cell_type": "markdown",
      "source": [
        "$\\left[ \\begin{array}{cccc}1&0&0&0\\\\0&1&0&0\\\\0&0&1&0\\\\\\frac{10}{7}&\\frac{3}{7}&- \\frac{5}{7}&\\frac{33}{7}\\\\ \\end{array} \\right]$"
      ],
      "metadata": {
        "id": "sfaRYeCkdRDq"
      }
    },
    {
      "cell_type": "code",
      "source": [
        "M&T((fracc(7,33),4))"
      ],
      "metadata": {
        "colab": {
          "base_uri": "https://localhost:8080/",
          "height": 46
        },
        "id": "YGKdHbu4dgm7",
        "outputId": "112dbe3d-681c-43b2-aae5-549da8012fdd"
      },
      "execution_count": null,
      "outputs": [
        {
          "output_type": "execute_result",
          "data": {
            "text/plain": [
              "Matrix([Vector([1, 0, 0, 10/7]), Vector([0, 1, 0, 3/7]), Vector([0, 0, 1, -5/7]), Vector([0, 0, 0, 1])])"
            ],
            "text/html": [
              "<p style=\"text-align:center;\">$\\left[ \\begin{array}{cccc}1&0&0&0\\\\0&1&0&0\\\\0&0&1&0\\\\\\frac{10}{7}&\\frac{3}{7}&- \\frac{5}{7}&1\\\\ \\end{array} \\right]$</p>"
            ],
            "image/png": "$\\left[ \\begin{array}{cccc}1&0&0&0\\\\0&1&0&0\\\\0&0&1&0\\\\\\frac{10}{7}&\\frac{3}{7}&- \\frac{5}{7}&1\\\\ \\end{array} \\right]$",
            "text/latex": "$\\left[ \\begin{array}{cccc}1&0&0&0\\\\0&1&0&0\\\\0&0&1&0\\\\\\frac{10}{7}&\\frac{3}{7}&- \\frac{5}{7}&1\\\\ \\end{array} \\right]$"
          },
          "metadata": {},
          "execution_count": 96
        }
      ]
    },
    {
      "cell_type": "markdown",
      "source": [
        "$\\left[ \\begin{array}{cccc}1&0&0&0\\\\0&1&0&0\\\\0&0&1&0\\\\\\frac{10}{7}&\\frac{3}{7}&- \\frac{5}{7}&1\\\\ \\end{array} \\right]$"
      ],
      "metadata": {
        "id": "3GnZU4lndmRz"
      }
    },
    {
      "cell_type": "code",
      "source": [
        "M&T((-fracc(10,7),4,1))"
      ],
      "metadata": {
        "colab": {
          "base_uri": "https://localhost:8080/",
          "height": 46
        },
        "id": "7BSmrlwed4oi",
        "outputId": "a35f38b3-335a-4b4c-ef8f-5b2d2dcdefd1"
      },
      "execution_count": null,
      "outputs": [
        {
          "output_type": "execute_result",
          "data": {
            "text/plain": [
              "Matrix([Vector([1, 0, 0, 0]), Vector([0, 1, 0, 3/7]), Vector([0, 0, 1, -5/7]), Vector([0, 0, 0, 1])])"
            ],
            "text/html": [
              "<p style=\"text-align:center;\">$\\left[ \\begin{array}{cccc}1&0&0&0\\\\0&1&0&0\\\\0&0&1&0\\\\0&\\frac{3}{7}&- \\frac{5}{7}&1\\\\ \\end{array} \\right]$</p>"
            ],
            "image/png": "$\\left[ \\begin{array}{cccc}1&0&0&0\\\\0&1&0&0\\\\0&0&1&0\\\\0&\\frac{3}{7}&- \\frac{5}{7}&1\\\\ \\end{array} \\right]$",
            "text/latex": "$\\left[ \\begin{array}{cccc}1&0&0&0\\\\0&1&0&0\\\\0&0&1&0\\\\0&\\frac{3}{7}&- \\frac{5}{7}&1\\\\ \\end{array} \\right]$"
          },
          "metadata": {},
          "execution_count": 97
        }
      ]
    },
    {
      "cell_type": "markdown",
      "source": [
        "$\\left[ \\begin{array}{cccc}1&0&0&0\\\\0&1&0&0\\\\0&0&1&0\\\\0&\\frac{3}{7}&- \\frac{5}{7}&1\\\\ \\end{array} \\right]$"
      ],
      "metadata": {
        "id": "OFTnmdQ_eAGS"
      }
    },
    {
      "cell_type": "code",
      "source": [
        "M&T((-fracc(3,7),4,2))"
      ],
      "metadata": {
        "colab": {
          "base_uri": "https://localhost:8080/",
          "height": 46
        },
        "id": "BteVazJ2eB-S",
        "outputId": "042fc2c4-b9a6-4099-a408-49ccd01bb48b"
      },
      "execution_count": null,
      "outputs": [
        {
          "output_type": "execute_result",
          "data": {
            "text/plain": [
              "Matrix([Vector([1, 0, 0, 0]), Vector([0, 1, 0, 0]), Vector([0, 0, 1, -5/7]), Vector([0, 0, 0, 1])])"
            ],
            "text/html": [
              "<p style=\"text-align:center;\">$\\left[ \\begin{array}{cccc}1&0&0&0\\\\0&1&0&0\\\\0&0&1&0\\\\0&0&- \\frac{5}{7}&1\\\\ \\end{array} \\right]$</p>"
            ],
            "image/png": "$\\left[ \\begin{array}{cccc}1&0&0&0\\\\0&1&0&0\\\\0&0&1&0\\\\0&0&- \\frac{5}{7}&1\\\\ \\end{array} \\right]$",
            "text/latex": "$\\left[ \\begin{array}{cccc}1&0&0&0\\\\0&1&0&0\\\\0&0&1&0\\\\0&0&- \\frac{5}{7}&1\\\\ \\end{array} \\right]$"
          },
          "metadata": {},
          "execution_count": 98
        }
      ]
    },
    {
      "cell_type": "markdown",
      "source": [
        "$\\left[ \\begin{array}{cccc}1&0&0&0\\\\0&1&0&0\\\\0&0&1&0\\\\0&0&- \\frac{5}{7}&1\\\\ \\end{array} \\right]$"
      ],
      "metadata": {
        "id": "vAJRZvePeFei"
      }
    },
    {
      "cell_type": "code",
      "source": [
        "M&T((fracc(5,7),4,3))"
      ],
      "metadata": {
        "colab": {
          "base_uri": "https://localhost:8080/",
          "height": 46
        },
        "id": "ZqcSxegFeHH6",
        "outputId": "b3d3e150-1512-4ba4-d499-ec140051614a"
      },
      "execution_count": null,
      "outputs": [
        {
          "output_type": "execute_result",
          "data": {
            "text/plain": [
              "Matrix([Vector([1, 0, 0, 0]), Vector([0, 1, 0, 0]), Vector([0, 0, 1, 0]), Vector([0, 0, 0, 1])])"
            ],
            "text/html": [
              "<p style=\"text-align:center;\">$\\left[ \\begin{array}{cccc}1&0&0&0\\\\0&1&0&0\\\\0&0&1&0\\\\0&0&0&1\\\\ \\end{array} \\right]$</p>"
            ],
            "image/png": "$\\left[ \\begin{array}{cccc}1&0&0&0\\\\0&1&0&0\\\\0&0&1&0\\\\0&0&0&1\\\\ \\end{array} \\right]$",
            "text/latex": "$\\left[ \\begin{array}{cccc}1&0&0&0\\\\0&1&0&0\\\\0&0&1&0\\\\0&0&0&1\\\\ \\end{array} \\right]$"
          },
          "metadata": {},
          "execution_count": 99
        }
      ]
    },
    {
      "cell_type": "markdown",
      "source": [
        "$\\left[ \\begin{array}{cccc}1&0&0&0\\\\0&1&0&0\\\\0&0&1&0\\\\0&0&0&1\\\\ \\end{array} \\right]$"
      ],
      "metadata": {
        "id": "b57yJnYYeK_C"
      }
    },
    {
      "cell_type": "markdown",
      "source": [
        "##Ejercicio 2"
      ],
      "metadata": {
        "id": "FHRPTgHWeeDy"
      }
    },
    {
      "cell_type": "markdown",
      "source": [
        "2. Escriba las siguientes matrices elementales de orden 4.\n",
        "\n",
        "\n",
        "(a) I τ\n",
        "[(−7)1+3]\n",
        "\n",
        "(b) I τ\n",
        "[(1)1+4]\n",
        "\n",
        "(c) I τ\n",
        "[(3)2+1]\n",
        "\n",
        "(d) I τ\n",
        "[(−10)3]"
      ],
      "metadata": {
        "id": "2wXEkEH9hXGe"
      }
    },
    {
      "cell_type": "code",
      "source": [
        "I(4) & T( (-7,1,3) )"
      ],
      "metadata": {
        "colab": {
          "base_uri": "https://localhost:8080/",
          "height": 46
        },
        "id": "l8l0fKO_fGMs",
        "outputId": "f0950d01-8b1d-465d-bf25-b29492ad2581"
      },
      "execution_count": null,
      "outputs": [
        {
          "output_type": "execute_result",
          "data": {
            "text/plain": [
              "Matrix([Vector([1, 0, 0, 0]), Vector([0, 1, 0, 0]), Vector([-7, 0, 1, 0]), Vector([0, 0, 0, 1])])"
            ],
            "text/html": [
              "<p style=\"text-align:center;\">$\\left[ \\begin{array}{cccc}1&0&-7&0\\\\0&1&0&0\\\\0&0&1&0\\\\0&0&0&1\\\\ \\end{array} \\right]$</p>"
            ],
            "image/png": "$\\left[ \\begin{array}{cccc}1&0&-7&0\\\\0&1&0&0\\\\0&0&1&0\\\\0&0&0&1\\\\ \\end{array} \\right]$",
            "text/latex": "$\\left[ \\begin{array}{cccc}1&0&-7&0\\\\0&1&0&0\\\\0&0&1&0\\\\0&0&0&1\\\\ \\end{array} \\right]$"
          },
          "metadata": {},
          "execution_count": 79
        }
      ]
    },
    {
      "cell_type": "markdown",
      "source": [
        "$\\left[ \\begin{array}{cccc}1&0&-7&0\\\\0&1&0&0\\\\0&0&1&0\\\\0&0&0&1\\\\ \\end{array} \\right]$"
      ],
      "metadata": {
        "id": "_jSOuSAxjKmD"
      }
    },
    {
      "cell_type": "code",
      "source": [
        "I(4) & T( (1,1,4) )"
      ],
      "metadata": {
        "colab": {
          "base_uri": "https://localhost:8080/",
          "height": 46
        },
        "id": "3eGWiGbRjP48",
        "outputId": "14caee29-10a6-4a67-c38f-555181d8ba1d"
      },
      "execution_count": null,
      "outputs": [
        {
          "output_type": "execute_result",
          "data": {
            "text/plain": [
              "Matrix([Vector([1, 0, 0, 0]), Vector([0, 1, 0, 0]), Vector([0, 0, 1, 0]), Vector([1, 0, 0, 1])])"
            ],
            "text/html": [
              "<p style=\"text-align:center;\">$\\left[ \\begin{array}{cccc}1&0&0&1\\\\0&1&0&0\\\\0&0&1&0\\\\0&0&0&1\\\\ \\end{array} \\right]$</p>"
            ],
            "image/png": "$\\left[ \\begin{array}{cccc}1&0&0&1\\\\0&1&0&0\\\\0&0&1&0\\\\0&0&0&1\\\\ \\end{array} \\right]$",
            "text/latex": "$\\left[ \\begin{array}{cccc}1&0&0&1\\\\0&1&0&0\\\\0&0&1&0\\\\0&0&0&1\\\\ \\end{array} \\right]$"
          },
          "metadata": {},
          "execution_count": 80
        }
      ]
    },
    {
      "cell_type": "markdown",
      "source": [
        "$\\left[ \\begin{array}{cccc}1&0&0&1\\\\0&1&0&0\\\\0&0&1&0\\\\0&0&0&1\\\\ \\end{array} \\right]$"
      ],
      "metadata": {
        "id": "-J2SWg-3jW8c"
      }
    },
    {
      "cell_type": "code",
      "source": [
        "I(4) & T( (3,2,1) )"
      ],
      "metadata": {
        "colab": {
          "base_uri": "https://localhost:8080/",
          "height": 46
        },
        "id": "zrLn8WRKjZwL",
        "outputId": "9924e8b8-28d6-4371-c3ff-3cec31f35928"
      },
      "execution_count": null,
      "outputs": [
        {
          "output_type": "execute_result",
          "data": {
            "text/plain": [
              "Matrix([Vector([1, 3, 0, 0]), Vector([0, 1, 0, 0]), Vector([0, 0, 1, 0]), Vector([0, 0, 0, 1])])"
            ],
            "text/html": [
              "<p style=\"text-align:center;\">$\\left[ \\begin{array}{cccc}1&0&0&0\\\\3&1&0&0\\\\0&0&1&0\\\\0&0&0&1\\\\ \\end{array} \\right]$</p>"
            ],
            "image/png": "$\\left[ \\begin{array}{cccc}1&0&0&0\\\\3&1&0&0\\\\0&0&1&0\\\\0&0&0&1\\\\ \\end{array} \\right]$",
            "text/latex": "$\\left[ \\begin{array}{cccc}1&0&0&0\\\\3&1&0&0\\\\0&0&1&0\\\\0&0&0&1\\\\ \\end{array} \\right]$"
          },
          "metadata": {},
          "execution_count": 81
        }
      ]
    },
    {
      "cell_type": "markdown",
      "source": [
        "$\\left[ \\begin{array}{cccc}1&0&0&0\\\\3&1&0&0\\\\0&0&1&0\\\\0&0&0&1\\\\ \\end{array} \\right]$"
      ],
      "metadata": {
        "id": "iGvj-BYJjge7"
      }
    },
    {
      "cell_type": "code",
      "source": [
        "I(4) & T( (-10,3) )"
      ],
      "metadata": {
        "colab": {
          "base_uri": "https://localhost:8080/",
          "height": 46
        },
        "id": "0ahJSxiVjZXk",
        "outputId": "ebe94bf4-3b9f-43b6-826c-32cc1b290266"
      },
      "execution_count": null,
      "outputs": [
        {
          "output_type": "execute_result",
          "data": {
            "text/plain": [
              "Matrix([Vector([1, 0, 0, 0]), Vector([0, 1, 0, 0]), Vector([0, 0, -10, 0]), Vector([0, 0, 0, 1])])"
            ],
            "text/html": [
              "<p style=\"text-align:center;\">$\\left[ \\begin{array}{cccc}1&0&0&0\\\\0&1&0&0\\\\0&0&-10&0\\\\0&0&0&1\\\\ \\end{array} \\right]$</p>"
            ],
            "image/png": "$\\left[ \\begin{array}{cccc}1&0&0&0\\\\0&1&0&0\\\\0&0&-10&0\\\\0&0&0&1\\\\ \\end{array} \\right]$",
            "text/latex": "$\\left[ \\begin{array}{cccc}1&0&0&0\\\\0&1&0&0\\\\0&0&-10&0\\\\0&0&0&1\\\\ \\end{array} \\right]$"
          },
          "metadata": {},
          "execution_count": 82
        }
      ]
    },
    {
      "cell_type": "markdown",
      "source": [
        "$\\left[ \\begin{array}{cccc}1&0&0&0\\\\0&1&0&0\\\\0&0&-10&0\\\\0&0&0&1\\\\ \\end{array} \\right]$"
      ],
      "metadata": {
        "id": "JKw760nyji_L"
      }
    },
    {
      "cell_type": "markdown",
      "source": [
        "##Ejercicio 3"
      ],
      "metadata": {
        "id": "jHKKnyvqjo9M"
      }
    },
    {
      "cell_type": "markdown",
      "source": [
        "3. Sea la matriz A = $\\left[ \\begin{array}{cccc}1&1&1&1\\\\0&1&1&1\\\\1&2&3&4\\\\4&-4&1&2\\\\ \\end{array} \\right]$\n",
        ", exprese las siguientes transformaciones elementales de\n",
        "\n",
        "A como productos de A por matrices elementales y escriba el resultado:\n",
        "\n",
        "(a) Multiplicar la primera columna por 3. (b) Restar la primera columna de la segunda."
      ],
      "metadata": {
        "id": "pwJzrogtFnkN"
      }
    },
    {
      "cell_type": "code",
      "source": [
        "w= Vector((1,0,1,4)); x=Vector((1,1,2,-4)); y= Vector((1,1,3,1)); z= Vector((1,1,4,2))\n",
        "A= Matrix([w,x,y,z])\n",
        "A"
      ],
      "metadata": {
        "colab": {
          "base_uri": "https://localhost:8080/",
          "height": 46
        },
        "id": "MdH-lTh91tfO",
        "outputId": "81ec78c3-67c5-429c-c195-3a612de97607"
      },
      "execution_count": null,
      "outputs": [
        {
          "output_type": "execute_result",
          "data": {
            "text/plain": [
              "Matrix([Vector([1, 0, 1, 4]), Vector([1, 1, 2, -4]), Vector([1, 1, 3, 1]), Vector([1, 1, 4, 2])])"
            ],
            "text/html": [
              "<p style=\"text-align:center;\">$\\left[ \\begin{array}{cccc}1&1&1&1\\\\0&1&1&1\\\\1&2&3&4\\\\4&-4&1&2\\\\ \\end{array} \\right]$</p>"
            ],
            "image/png": "$\\left[ \\begin{array}{cccc}1&1&1&1\\\\0&1&1&1\\\\1&2&3&4\\\\4&-4&1&2\\\\ \\end{array} \\right]$",
            "text/latex": "$\\left[ \\begin{array}{cccc}1&1&1&1\\\\0&1&1&1\\\\1&2&3&4\\\\4&-4&1&2\\\\ \\end{array} \\right]$"
          },
          "metadata": {},
          "execution_count": 110
        }
      ]
    },
    {
      "cell_type": "markdown",
      "source": [
        "$\\left[ \\begin{array}{cccc}1&1&1&1\\\\0&1&1&1\\\\1&2&3&4\\\\4&-4&1&2\\\\ \\end{array} \\right]$"
      ],
      "metadata": {
        "id": "2ERNnlQd2BXw"
      }
    },
    {
      "cell_type": "code",
      "source": [
        "A=A * ( I(A.n) &  T((3,1)) )\n",
        "A"
      ],
      "metadata": {
        "colab": {
          "base_uri": "https://localhost:8080/",
          "height": 46
        },
        "id": "7EHy1hsX2DdO",
        "outputId": "e6eacd60-7f25-43f8-9d5b-3d3b32cc7cfc"
      },
      "execution_count": null,
      "outputs": [
        {
          "output_type": "execute_result",
          "data": {
            "text/plain": [
              "Matrix([Vector([3, 0, 3, 12]), Vector([1, 1, 2, -4]), Vector([1, 1, 3, 1]), Vector([1, 1, 4, 2])])"
            ],
            "text/html": [
              "<p style=\"text-align:center;\">$\\left[ \\begin{array}{cccc}3&1&1&1\\\\0&1&1&1\\\\3&2&3&4\\\\12&-4&1&2\\\\ \\end{array} \\right]$</p>"
            ],
            "image/png": "$\\left[ \\begin{array}{cccc}3&1&1&1\\\\0&1&1&1\\\\3&2&3&4\\\\12&-4&1&2\\\\ \\end{array} \\right]$",
            "text/latex": "$\\left[ \\begin{array}{cccc}3&1&1&1\\\\0&1&1&1\\\\3&2&3&4\\\\12&-4&1&2\\\\ \\end{array} \\right]$"
          },
          "metadata": {},
          "execution_count": 111
        }
      ]
    },
    {
      "cell_type": "markdown",
      "source": [
        "$\\left[ \\begin{array}{cccc}3&1&1&1\\\\0&1&1&1\\\\3&2&3&4\\\\12&-4&1&2\\\\ \\end{array} \\right]$"
      ],
      "metadata": {
        "id": "hpI0sH_M2_na"
      }
    },
    {
      "cell_type": "code",
      "source": [
        "A=A * ( I(A.n) &  T((-1,1,2)) )\n",
        "A"
      ],
      "metadata": {
        "colab": {
          "base_uri": "https://localhost:8080/",
          "height": 46
        },
        "id": "sfSnz66i3L6W",
        "outputId": "951f7982-db33-4a22-b6ef-933de2f1cc76"
      },
      "execution_count": null,
      "outputs": [
        {
          "output_type": "execute_result",
          "data": {
            "text/plain": [
              "Matrix([Vector([3, 0, 3, 12]), Vector([-2, 1, -1, -16]), Vector([1, 1, 3, 1]), Vector([1, 1, 4, 2])])"
            ],
            "text/html": [
              "<p style=\"text-align:center;\">$\\left[ \\begin{array}{cccc}3&-2&1&1\\\\0&1&1&1\\\\3&-1&3&4\\\\12&-16&1&2\\\\ \\end{array} \\right]$</p>"
            ],
            "image/png": "$\\left[ \\begin{array}{cccc}3&-2&1&1\\\\0&1&1&1\\\\3&-1&3&4\\\\12&-16&1&2\\\\ \\end{array} \\right]$",
            "text/latex": "$\\left[ \\begin{array}{cccc}3&-2&1&1\\\\0&1&1&1\\\\3&-1&3&4\\\\12&-16&1&2\\\\ \\end{array} \\right]$"
          },
          "metadata": {},
          "execution_count": 112
        }
      ]
    },
    {
      "cell_type": "markdown",
      "source": [
        "$\\left[ \\begin{array}{cccc}3&-2&1&1\\\\0&1&1&1\\\\3&-1&3&4\\\\12&-16&1&2\\\\ \\end{array} \\right]$"
      ],
      "metadata": {
        "id": "QHcnpemj3zN2"
      }
    },
    {
      "cell_type": "markdown",
      "source": [
        "##Ejercicio 4"
      ],
      "metadata": {
        "id": "x4vlJYMK5Ftm"
      }
    },
    {
      "cell_type": "markdown",
      "source": [
        "4. Realiza el algoritmo de eliminación de Gauss-Jordan para la matriz del ejercicio 1, es decir continua las modificaciones de la matriz mediante operaciones elementales.\n",
        "Por cada paso del algoritmo escribe la celda de código correspondiente."
      ],
      "metadata": {
        "id": "NRMqK0VmB6px"
      }
    },
    {
      "cell_type": "code",
      "source": [
        "w= Vector((3,1,1,4)); x=Vector((-2,-1,1,-4)); y= Vector((2,-1,2,1)); z= Vector((1,-3,4,2))\n",
        "N= Matrix([w,x,y,z])\n",
        "N"
      ],
      "metadata": {
        "colab": {
          "base_uri": "https://localhost:8080/",
          "height": 46
        },
        "id": "z9kTzj8E5evg",
        "outputId": "9fdf87ca-0faa-4a09-a5f5-2e53e332da01"
      },
      "execution_count": null,
      "outputs": [
        {
          "output_type": "execute_result",
          "data": {
            "text/plain": [
              "Matrix([Vector([3, 1, 1, 4]), Vector([-2, -1, 1, -4]), Vector([2, -1, 2, 1]), Vector([1, -3, 4, 2])])"
            ],
            "text/html": [
              "<p style=\"text-align:center;\">$\\left[ \\begin{array}{cccc}3&-2&2&1\\\\1&-1&-1&-3\\\\1&1&2&4\\\\4&-4&1&2\\\\ \\end{array} \\right]$</p>"
            ],
            "image/png": "$\\left[ \\begin{array}{cccc}3&-2&2&1\\\\1&-1&-1&-3\\\\1&1&2&4\\\\4&-4&1&2\\\\ \\end{array} \\right]$",
            "text/latex": "$\\left[ \\begin{array}{cccc}3&-2&2&1\\\\1&-1&-1&-3\\\\1&1&2&4\\\\4&-4&1&2\\\\ \\end{array} \\right]$"
          },
          "metadata": {},
          "execution_count": 141
        }
      ]
    },
    {
      "cell_type": "markdown",
      "source": [
        "$\\left[ \\begin{array}{cccc}3&-2&2&1\\\\1&-1&-1&-3\\\\1&1&2&4\\\\4&-4&1&2\\\\ \\end{array} \\right]$"
      ],
      "metadata": {
        "id": "nBSFEk8F51CG"
      }
    },
    {
      "cell_type": "code",
      "source": [
        "N&T((3,2))"
      ],
      "metadata": {
        "colab": {
          "base_uri": "https://localhost:8080/",
          "height": 46
        },
        "id": "67SusfIQ510O",
        "outputId": "69483745-db71-48af-a33f-587807c33c39"
      },
      "execution_count": null,
      "outputs": [
        {
          "output_type": "execute_result",
          "data": {
            "text/plain": [
              "Matrix([Vector([3, 1, 1, 4]), Vector([-6, -3, 3, -12]), Vector([2, -1, 2, 1]), Vector([1, -3, 4, 2])])"
            ],
            "text/html": [
              "<p style=\"text-align:center;\">$\\left[ \\begin{array}{cccc}3&-6&2&1\\\\1&-3&-1&-3\\\\1&3&2&4\\\\4&-12&1&2\\\\ \\end{array} \\right]$</p>"
            ],
            "image/png": "$\\left[ \\begin{array}{cccc}3&-6&2&1\\\\1&-3&-1&-3\\\\1&3&2&4\\\\4&-12&1&2\\\\ \\end{array} \\right]$",
            "text/latex": "$\\left[ \\begin{array}{cccc}3&-6&2&1\\\\1&-3&-1&-3\\\\1&3&2&4\\\\4&-12&1&2\\\\ \\end{array} \\right]$"
          },
          "metadata": {},
          "execution_count": 142
        }
      ]
    },
    {
      "cell_type": "markdown",
      "source": [
        "$\\left[ \\begin{array}{cccc}3&-6&2&1\\\\1&-3&-1&-3\\\\1&3&2&4\\\\4&-12&1&2\\\\ \\end{array} \\right]$"
      ],
      "metadata": {
        "id": "y8kwxnMcAmYP"
      }
    },
    {
      "cell_type": "code",
      "source": [
        "N&T((2,1,2))"
      ],
      "metadata": {
        "colab": {
          "base_uri": "https://localhost:8080/",
          "height": 46
        },
        "id": "6CmJTvXA9SS-",
        "outputId": "6012154b-1792-4dfb-c274-0aac77e1227a"
      },
      "execution_count": null,
      "outputs": [
        {
          "output_type": "execute_result",
          "data": {
            "text/plain": [
              "Matrix([Vector([3, 1, 1, 4]), Vector([0, -1, 5, -4]), Vector([2, -1, 2, 1]), Vector([1, -3, 4, 2])])"
            ],
            "text/html": [
              "<p style=\"text-align:center;\">$\\left[ \\begin{array}{cccc}3&0&2&1\\\\1&-1&-1&-3\\\\1&5&2&4\\\\4&-4&1&2\\\\ \\end{array} \\right]$</p>"
            ],
            "image/png": "$\\left[ \\begin{array}{cccc}3&0&2&1\\\\1&-1&-1&-3\\\\1&5&2&4\\\\4&-4&1&2\\\\ \\end{array} \\right]$",
            "text/latex": "$\\left[ \\begin{array}{cccc}3&0&2&1\\\\1&-1&-1&-3\\\\1&5&2&4\\\\4&-4&1&2\\\\ \\end{array} \\right]$"
          },
          "metadata": {},
          "execution_count": 143
        }
      ]
    },
    {
      "cell_type": "markdown",
      "source": [
        "$\\left[ \\begin{array}{cccc}3&0&2&1\\\\1&-1&-1&-3\\\\1&5&2&4\\\\4&-4&1&2\\\\ \\end{array} \\right]$"
      ],
      "metadata": {
        "id": "51fOtPiBAlpf"
      }
    },
    {
      "cell_type": "code",
      "source": [
        "N&T((3,3))"
      ],
      "metadata": {
        "colab": {
          "base_uri": "https://localhost:8080/",
          "height": 46
        },
        "id": "D82aEGof9T4A",
        "outputId": "a768b719-d35b-42e3-aaba-058369791741"
      },
      "execution_count": null,
      "outputs": [
        {
          "output_type": "execute_result",
          "data": {
            "text/plain": [
              "Matrix([Vector([3, 1, 1, 4]), Vector([0, -1, 5, -4]), Vector([6, -3, 6, 3]), Vector([1, -3, 4, 2])])"
            ],
            "text/html": [
              "<p style=\"text-align:center;\">$\\left[ \\begin{array}{cccc}3&0&6&1\\\\1&-1&-3&-3\\\\1&5&6&4\\\\4&-4&3&2\\\\ \\end{array} \\right]$</p>"
            ],
            "image/png": "$\\left[ \\begin{array}{cccc}3&0&6&1\\\\1&-1&-3&-3\\\\1&5&6&4\\\\4&-4&3&2\\\\ \\end{array} \\right]$",
            "text/latex": "$\\left[ \\begin{array}{cccc}3&0&6&1\\\\1&-1&-3&-3\\\\1&5&6&4\\\\4&-4&3&2\\\\ \\end{array} \\right]$"
          },
          "metadata": {},
          "execution_count": 144
        }
      ]
    },
    {
      "cell_type": "markdown",
      "source": [
        "$\\left[ \\begin{array}{cccc}3&0&6&1\\\\1&-1&-3&-3\\\\1&5&6&4\\\\4&-4&3&2\\\\ \\end{array} \\right]$"
      ],
      "metadata": {
        "id": "sH5EHCMZAkFj"
      }
    },
    {
      "cell_type": "code",
      "source": [
        "N&T((-2,1,3))"
      ],
      "metadata": {
        "colab": {
          "base_uri": "https://localhost:8080/",
          "height": 46
        },
        "id": "4IB8h-_t9VTR",
        "outputId": "12f210f1-262a-4d4f-dd5c-b5f8ccc38a3a"
      },
      "execution_count": null,
      "outputs": [
        {
          "output_type": "execute_result",
          "data": {
            "text/plain": [
              "Matrix([Vector([3, 1, 1, 4]), Vector([0, -1, 5, -4]), Vector([0, -5, 4, -5]), Vector([1, -3, 4, 2])])"
            ],
            "text/html": [
              "<p style=\"text-align:center;\">$\\left[ \\begin{array}{cccc}3&0&0&1\\\\1&-1&-5&-3\\\\1&5&4&4\\\\4&-4&-5&2\\\\ \\end{array} \\right]$</p>"
            ],
            "image/png": "$\\left[ \\begin{array}{cccc}3&0&0&1\\\\1&-1&-5&-3\\\\1&5&4&4\\\\4&-4&-5&2\\\\ \\end{array} \\right]$",
            "text/latex": "$\\left[ \\begin{array}{cccc}3&0&0&1\\\\1&-1&-5&-3\\\\1&5&4&4\\\\4&-4&-5&2\\\\ \\end{array} \\right]$"
          },
          "metadata": {},
          "execution_count": 145
        }
      ]
    },
    {
      "cell_type": "markdown",
      "source": [
        "$\\left[ \\begin{array}{cccc}3&0&0&1\\\\1&-1&-5&-3\\\\1&5&4&4\\\\4&-4&-5&2\\\\ \\end{array} \\right]$"
      ],
      "metadata": {
        "id": "hIvHMCvKAjMP"
      }
    },
    {
      "cell_type": "code",
      "source": [
        "N&T((3,4))"
      ],
      "metadata": {
        "colab": {
          "base_uri": "https://localhost:8080/",
          "height": 46
        },
        "id": "zdgI7H1d9XGu",
        "outputId": "554732dd-18b9-4fdc-9a31-5823534f04db"
      },
      "execution_count": null,
      "outputs": [
        {
          "output_type": "execute_result",
          "data": {
            "text/plain": [
              "Matrix([Vector([3, 1, 1, 4]), Vector([0, -1, 5, -4]), Vector([0, -5, 4, -5]), Vector([3, -9, 12, 6])])"
            ],
            "text/html": [
              "<p style=\"text-align:center;\">$\\left[ \\begin{array}{cccc}3&0&0&3\\\\1&-1&-5&-9\\\\1&5&4&12\\\\4&-4&-5&6\\\\ \\end{array} \\right]$</p>"
            ],
            "image/png": "$\\left[ \\begin{array}{cccc}3&0&0&3\\\\1&-1&-5&-9\\\\1&5&4&12\\\\4&-4&-5&6\\\\ \\end{array} \\right]$",
            "text/latex": "$\\left[ \\begin{array}{cccc}3&0&0&3\\\\1&-1&-5&-9\\\\1&5&4&12\\\\4&-4&-5&6\\\\ \\end{array} \\right]$"
          },
          "metadata": {},
          "execution_count": 146
        }
      ]
    },
    {
      "cell_type": "markdown",
      "source": [
        "$\\left[ \\begin{array}{cccc}3&0&0&3\\\\1&-1&-5&-9\\\\1&5&4&12\\\\4&-4&-5&6\\\\ \\end{array} \\right]$"
      ],
      "metadata": {
        "id": "7uhiH1IxAij8"
      }
    },
    {
      "cell_type": "code",
      "source": [
        "N&T((-1,1,4))"
      ],
      "metadata": {
        "colab": {
          "base_uri": "https://localhost:8080/",
          "height": 46
        },
        "id": "rv2HfTW-9Y8-",
        "outputId": "e97fb2b3-0900-4068-8bc3-b8ff90d53b60"
      },
      "execution_count": null,
      "outputs": [
        {
          "output_type": "execute_result",
          "data": {
            "text/plain": [
              "Matrix([Vector([3, 1, 1, 4]), Vector([0, -1, 5, -4]), Vector([0, -5, 4, -5]), Vector([0, -10, 11, 2])])"
            ],
            "text/html": [
              "<p style=\"text-align:center;\">$\\left[ \\begin{array}{cccc}3&0&0&0\\\\1&-1&-5&-10\\\\1&5&4&11\\\\4&-4&-5&2\\\\ \\end{array} \\right]$</p>"
            ],
            "image/png": "$\\left[ \\begin{array}{cccc}3&0&0&0\\\\1&-1&-5&-10\\\\1&5&4&11\\\\4&-4&-5&2\\\\ \\end{array} \\right]$",
            "text/latex": "$\\left[ \\begin{array}{cccc}3&0&0&0\\\\1&-1&-5&-10\\\\1&5&4&11\\\\4&-4&-5&2\\\\ \\end{array} \\right]$"
          },
          "metadata": {},
          "execution_count": 147
        }
      ]
    },
    {
      "cell_type": "markdown",
      "source": [
        "$\\left[ \\begin{array}{cccc}3&0&0&0\\\\1&-1&-5&-10\\\\1&5&4&11\\\\4&-4&-5&2\\\\ \\end{array} \\right]$"
      ],
      "metadata": {
        "id": "xRh9YJT59vSX"
      }
    },
    {
      "cell_type": "code",
      "source": [
        "N&T((1,2,1))"
      ],
      "metadata": {
        "colab": {
          "base_uri": "https://localhost:8080/",
          "height": 46
        },
        "id": "dNLHlYKx9zco",
        "outputId": "181d4251-1e6f-40f4-dac6-c3139ade191b"
      },
      "execution_count": null,
      "outputs": [
        {
          "output_type": "execute_result",
          "data": {
            "text/plain": [
              "Matrix([Vector([3, 0, 6, 0]), Vector([0, -1, 5, -4]), Vector([0, -5, 4, -5]), Vector([0, -10, 11, 2])])"
            ],
            "text/html": [
              "<p style=\"text-align:center;\">$\\left[ \\begin{array}{cccc}3&0&0&0\\\\0&-1&-5&-10\\\\6&5&4&11\\\\0&-4&-5&2\\\\ \\end{array} \\right]$</p>"
            ],
            "image/png": "$\\left[ \\begin{array}{cccc}3&0&0&0\\\\0&-1&-5&-10\\\\6&5&4&11\\\\0&-4&-5&2\\\\ \\end{array} \\right]$",
            "text/latex": "$\\left[ \\begin{array}{cccc}3&0&0&0\\\\0&-1&-5&-10\\\\6&5&4&11\\\\0&-4&-5&2\\\\ \\end{array} \\right]$"
          },
          "metadata": {},
          "execution_count": 148
        }
      ]
    },
    {
      "cell_type": "markdown",
      "source": [
        "$\\left[ \\begin{array}{cccc}3&0&0&0\\\\0&-1&-5&-10\\\\6&5&4&11\\\\0&-4&-5&2\\\\ \\end{array} \\right]$"
      ],
      "metadata": {
        "id": "k8cNrxsbAhFt"
      }
    },
    {
      "cell_type": "code",
      "source": [
        "N&T((-5,2,3))"
      ],
      "metadata": {
        "colab": {
          "base_uri": "https://localhost:8080/",
          "height": 46
        },
        "id": "sWLWAztP93SG",
        "outputId": "55e4a2b9-5fcc-44c6-b36b-e8164683e1b4"
      },
      "execution_count": null,
      "outputs": [
        {
          "output_type": "execute_result",
          "data": {
            "text/plain": [
              "Matrix([Vector([3, 0, 6, 0]), Vector([0, -1, 5, -4]), Vector([0, 0, -21, 15]), Vector([0, -10, 11, 2])])"
            ],
            "text/html": [
              "<p style=\"text-align:center;\">$\\left[ \\begin{array}{cccc}3&0&0&0\\\\0&-1&0&-10\\\\6&5&-21&11\\\\0&-4&15&2\\\\ \\end{array} \\right]$</p>"
            ],
            "image/png": "$\\left[ \\begin{array}{cccc}3&0&0&0\\\\0&-1&0&-10\\\\6&5&-21&11\\\\0&-4&15&2\\\\ \\end{array} \\right]$",
            "text/latex": "$\\left[ \\begin{array}{cccc}3&0&0&0\\\\0&-1&0&-10\\\\6&5&-21&11\\\\0&-4&15&2\\\\ \\end{array} \\right]$"
          },
          "metadata": {},
          "execution_count": 149
        }
      ]
    },
    {
      "cell_type": "markdown",
      "source": [
        "$\\left[ \\begin{array}{cccc}3&0&0&0\\\\0&-1&0&-10\\\\6&5&-21&11\\\\0&-4&15&2\\\\ \\end{array} \\right]$"
      ],
      "metadata": {
        "id": "j-yUP0aQAgT7"
      }
    },
    {
      "cell_type": "code",
      "source": [
        "N&T((-10,2,4))"
      ],
      "metadata": {
        "colab": {
          "base_uri": "https://localhost:8080/",
          "height": 46
        },
        "id": "iaQc-lZO96t4",
        "outputId": "2f3b4860-bdd4-4ced-881e-2c7fa0b5811d"
      },
      "execution_count": null,
      "outputs": [
        {
          "output_type": "execute_result",
          "data": {
            "text/plain": [
              "Matrix([Vector([3, 0, 6, 0]), Vector([0, -1, 5, -4]), Vector([0, 0, -21, 15]), Vector([0, 0, -39, 42])])"
            ],
            "text/html": [
              "<p style=\"text-align:center;\">$\\left[ \\begin{array}{cccc}3&0&0&0\\\\0&-1&0&0\\\\6&5&-21&-39\\\\0&-4&15&42\\\\ \\end{array} \\right]$</p>"
            ],
            "image/png": "$\\left[ \\begin{array}{cccc}3&0&0&0\\\\0&-1&0&0\\\\6&5&-21&-39\\\\0&-4&15&42\\\\ \\end{array} \\right]$",
            "text/latex": "$\\left[ \\begin{array}{cccc}3&0&0&0\\\\0&-1&0&0\\\\6&5&-21&-39\\\\0&-4&15&42\\\\ \\end{array} \\right]$"
          },
          "metadata": {},
          "execution_count": 150
        }
      ]
    },
    {
      "cell_type": "markdown",
      "source": [
        "$\\left[ \\begin{array}{cccc}3&0&0&0\\\\0&-1&0&0\\\\6&5&-21&-39\\\\0&-4&15&42\\\\ \\end{array} \\right]$"
      ],
      "metadata": {
        "id": "Vq5DtOD0-HXe"
      }
    },
    {
      "cell_type": "code",
      "source": [
        "N&T((7,1))"
      ],
      "metadata": {
        "colab": {
          "base_uri": "https://localhost:8080/",
          "height": 46
        },
        "id": "-9YMUiKc-RyQ",
        "outputId": "524052b4-fa8d-4195-9a12-f756ce97f78f"
      },
      "execution_count": null,
      "outputs": [
        {
          "output_type": "execute_result",
          "data": {
            "text/plain": [
              "Matrix([Vector([21, 0, 42, 0]), Vector([0, -1, 5, -4]), Vector([0, 0, -21, 15]), Vector([0, 0, -39, 42])])"
            ],
            "text/html": [
              "<p style=\"text-align:center;\">$\\left[ \\begin{array}{cccc}21&0&0&0\\\\0&-1&0&0\\\\42&5&-21&-39\\\\0&-4&15&42\\\\ \\end{array} \\right]$</p>"
            ],
            "image/png": "$\\left[ \\begin{array}{cccc}21&0&0&0\\\\0&-1&0&0\\\\42&5&-21&-39\\\\0&-4&15&42\\\\ \\end{array} \\right]$",
            "text/latex": "$\\left[ \\begin{array}{cccc}21&0&0&0\\\\0&-1&0&0\\\\42&5&-21&-39\\\\0&-4&15&42\\\\ \\end{array} \\right]$"
          },
          "metadata": {},
          "execution_count": 151
        }
      ]
    },
    {
      "cell_type": "markdown",
      "source": [
        "$\\left[ \\begin{array}{cccc}21&0&0&0\\\\0&-1&0&0\\\\42&5&-21&-39\\\\0&-4&15&42\\\\ \\end{array} \\right]$"
      ],
      "metadata": {
        "id": "8ZWD5wxDAdap"
      }
    },
    {
      "cell_type": "code",
      "source": [
        "N&T((2,3,1))"
      ],
      "metadata": {
        "colab": {
          "base_uri": "https://localhost:8080/",
          "height": 46
        },
        "id": "rZZuiWAm-VVv",
        "outputId": "721393f4-a09b-4b70-d381-265f27c138b6"
      },
      "execution_count": null,
      "outputs": [
        {
          "output_type": "execute_result",
          "data": {
            "text/plain": [
              "Matrix([Vector([21, 0, 0, 30]), Vector([0, -1, 5, -4]), Vector([0, 0, -21, 15]), Vector([0, 0, -39, 42])])"
            ],
            "text/html": [
              "<p style=\"text-align:center;\">$\\left[ \\begin{array}{cccc}21&0&0&0\\\\0&-1&0&0\\\\0&5&-21&-39\\\\30&-4&15&42\\\\ \\end{array} \\right]$</p>"
            ],
            "image/png": "$\\left[ \\begin{array}{cccc}21&0&0&0\\\\0&-1&0&0\\\\0&5&-21&-39\\\\30&-4&15&42\\\\ \\end{array} \\right]$",
            "text/latex": "$\\left[ \\begin{array}{cccc}21&0&0&0\\\\0&-1&0&0\\\\0&5&-21&-39\\\\30&-4&15&42\\\\ \\end{array} \\right]$"
          },
          "metadata": {},
          "execution_count": 152
        }
      ]
    },
    {
      "cell_type": "markdown",
      "source": [
        "$\\left[ \\begin{array}{cccc}21&0&0&0\\\\0&-1&0&0\\\\0&5&-21&-39\\\\30&-4&15&42\\\\ \\end{array} \\right]$"
      ],
      "metadata": {
        "id": "jYbc7nGJAclC"
      }
    },
    {
      "cell_type": "code",
      "source": [
        "N&T((21,2))"
      ],
      "metadata": {
        "colab": {
          "base_uri": "https://localhost:8080/",
          "height": 46
        },
        "id": "IupEWoOC-XwW",
        "outputId": "08d012c0-e50c-490e-c4fc-089b67edd348"
      },
      "execution_count": null,
      "outputs": [
        {
          "output_type": "execute_result",
          "data": {
            "text/plain": [
              "Matrix([Vector([21, 0, 0, 30]), Vector([0, -21, 105, -84]), Vector([0, 0, -21, 15]), Vector([0, 0, -39, 42])])"
            ],
            "text/html": [
              "<p style=\"text-align:center;\">$\\left[ \\begin{array}{cccc}21&0&0&0\\\\0&-21&0&0\\\\0&105&-21&-39\\\\30&-84&15&42\\\\ \\end{array} \\right]$</p>"
            ],
            "image/png": "$\\left[ \\begin{array}{cccc}21&0&0&0\\\\0&-21&0&0\\\\0&105&-21&-39\\\\30&-84&15&42\\\\ \\end{array} \\right]$",
            "text/latex": "$\\left[ \\begin{array}{cccc}21&0&0&0\\\\0&-21&0&0\\\\0&105&-21&-39\\\\30&-84&15&42\\\\ \\end{array} \\right]$"
          },
          "metadata": {},
          "execution_count": 153
        }
      ]
    },
    {
      "cell_type": "markdown",
      "source": [
        "$\\left[ \\begin{array}{cccc}21&0&0&0\\\\0&-21&0&0\\\\0&105&-21&-39\\\\30&-84&15&42\\\\ \\end{array} \\right]$"
      ],
      "metadata": {
        "id": "ivPaenNcAbvY"
      }
    },
    {
      "cell_type": "code",
      "source": [
        "N&T((5,3,2))"
      ],
      "metadata": {
        "colab": {
          "base_uri": "https://localhost:8080/",
          "height": 46
        },
        "id": "ssTrblD1-asO",
        "outputId": "87e63623-5311-4dee-e1ce-80273001e064"
      },
      "execution_count": null,
      "outputs": [
        {
          "output_type": "execute_result",
          "data": {
            "text/plain": [
              "Matrix([Vector([21, 0, 0, 30]), Vector([0, -21, 0, -9]), Vector([0, 0, -21, 15]), Vector([0, 0, -39, 42])])"
            ],
            "text/html": [
              "<p style=\"text-align:center;\">$\\left[ \\begin{array}{cccc}21&0&0&0\\\\0&-21&0&0\\\\0&0&-21&-39\\\\30&-9&15&42\\\\ \\end{array} \\right]$</p>"
            ],
            "image/png": "$\\left[ \\begin{array}{cccc}21&0&0&0\\\\0&-21&0&0\\\\0&0&-21&-39\\\\30&-9&15&42\\\\ \\end{array} \\right]$",
            "text/latex": "$\\left[ \\begin{array}{cccc}21&0&0&0\\\\0&-21&0&0\\\\0&0&-21&-39\\\\30&-9&15&42\\\\ \\end{array} \\right]$"
          },
          "metadata": {},
          "execution_count": 154
        }
      ]
    },
    {
      "cell_type": "markdown",
      "source": [
        "$\\left[ \\begin{array}{cccc}21&0&0&0\\\\0&-21&0&0\\\\0&0&-21&-39\\\\30&-9&15&42\\\\ \\end{array} \\right]$"
      ],
      "metadata": {
        "id": "o8EOwWGkAa3B"
      }
    },
    {
      "cell_type": "code",
      "source": [
        "N&T((7,4))"
      ],
      "metadata": {
        "colab": {
          "base_uri": "https://localhost:8080/",
          "height": 46
        },
        "id": "ZJgclGG1-dEp",
        "outputId": "947f671f-03f4-42f5-bde5-dbf77bf8dadc"
      },
      "execution_count": null,
      "outputs": [
        {
          "output_type": "execute_result",
          "data": {
            "text/plain": [
              "Matrix([Vector([21, 0, 0, 30]), Vector([0, -21, 0, -9]), Vector([0, 0, -21, 15]), Vector([0, 0, -273, 294])])"
            ],
            "text/html": [
              "<p style=\"text-align:center;\">$\\left[ \\begin{array}{cccc}21&0&0&0\\\\0&-21&0&0\\\\0&0&-21&-273\\\\30&-9&15&294\\\\ \\end{array} \\right]$</p>"
            ],
            "image/png": "$\\left[ \\begin{array}{cccc}21&0&0&0\\\\0&-21&0&0\\\\0&0&-21&-273\\\\30&-9&15&294\\\\ \\end{array} \\right]$",
            "text/latex": "$\\left[ \\begin{array}{cccc}21&0&0&0\\\\0&-21&0&0\\\\0&0&-21&-273\\\\30&-9&15&294\\\\ \\end{array} \\right]$"
          },
          "metadata": {},
          "execution_count": 155
        }
      ]
    },
    {
      "cell_type": "markdown",
      "source": [
        "$\\left[ \\begin{array}{cccc}21&0&0&0\\\\0&-21&0&0\\\\0&0&-21&-273\\\\30&-9&15&294\\\\ \\end{array} \\right]$"
      ],
      "metadata": {
        "id": "2T_gefK-AaCl"
      }
    },
    {
      "cell_type": "code",
      "source": [
        "N&T((-13,3,4))"
      ],
      "metadata": {
        "colab": {
          "base_uri": "https://localhost:8080/",
          "height": 46
        },
        "id": "khNDhSee-gk_",
        "outputId": "12460a22-b921-4181-d8ad-59ca5c062d66"
      },
      "execution_count": null,
      "outputs": [
        {
          "output_type": "execute_result",
          "data": {
            "text/plain": [
              "Matrix([Vector([21, 0, 0, 30]), Vector([0, -21, 0, -9]), Vector([0, 0, -21, 15]), Vector([0, 0, 0, 99])])"
            ],
            "text/html": [
              "<p style=\"text-align:center;\">$\\left[ \\begin{array}{cccc}21&0&0&0\\\\0&-21&0&0\\\\0&0&-21&0\\\\30&-9&15&99\\\\ \\end{array} \\right]$</p>"
            ],
            "image/png": "$\\left[ \\begin{array}{cccc}21&0&0&0\\\\0&-21&0&0\\\\0&0&-21&0\\\\30&-9&15&99\\\\ \\end{array} \\right]$",
            "text/latex": "$\\left[ \\begin{array}{cccc}21&0&0&0\\\\0&-21&0&0\\\\0&0&-21&0\\\\30&-9&15&99\\\\ \\end{array} \\right]$"
          },
          "metadata": {},
          "execution_count": 156
        }
      ]
    },
    {
      "cell_type": "markdown",
      "source": [
        "$\\left[ \\begin{array}{cccc}21&0&0&0\\\\0&-21&0&0\\\\0&0&-21&0\\\\30&-9&15&99\\\\ \\end{array} \\right]$"
      ],
      "metadata": {
        "id": "RC4s-IkJ-x1X"
      }
    },
    {
      "cell_type": "code",
      "source": [
        "N&T((33,1))"
      ],
      "metadata": {
        "colab": {
          "base_uri": "https://localhost:8080/",
          "height": 46
        },
        "id": "6_LPLAJ7-zhn",
        "outputId": "c6dfb853-e84c-494c-a192-b26bf693d6cd"
      },
      "execution_count": null,
      "outputs": [
        {
          "output_type": "execute_result",
          "data": {
            "text/plain": [
              "Matrix([Vector([693, 0, 0, 990]), Vector([0, -21, 0, -9]), Vector([0, 0, -21, 15]), Vector([0, 0, 0, 99])])"
            ],
            "text/html": [
              "<p style=\"text-align:center;\">$\\left[ \\begin{array}{cccc}693&0&0&0\\\\0&-21&0&0\\\\0&0&-21&0\\\\990&-9&15&99\\\\ \\end{array} \\right]$</p>"
            ],
            "image/png": "$\\left[ \\begin{array}{cccc}693&0&0&0\\\\0&-21&0&0\\\\0&0&-21&0\\\\990&-9&15&99\\\\ \\end{array} \\right]$",
            "text/latex": "$\\left[ \\begin{array}{cccc}693&0&0&0\\\\0&-21&0&0\\\\0&0&-21&0\\\\990&-9&15&99\\\\ \\end{array} \\right]$"
          },
          "metadata": {},
          "execution_count": 157
        }
      ]
    },
    {
      "cell_type": "markdown",
      "source": [
        "$\\left[ \\begin{array}{cccc}693&0&0&0\\\\0&-21&0&0\\\\0&0&-21&0\\\\990&-9&15&99\\\\ \\end{array} \\right]$"
      ],
      "metadata": {
        "id": "kcAkYuLyAXmA"
      }
    },
    {
      "cell_type": "code",
      "source": [
        "N&T((-10,4,1))"
      ],
      "metadata": {
        "colab": {
          "base_uri": "https://localhost:8080/",
          "height": 46
        },
        "id": "gJ_1cKgu-8Qw",
        "outputId": "38e10bc2-549e-4666-bf9b-881457b78ab5"
      },
      "execution_count": null,
      "outputs": [
        {
          "output_type": "execute_result",
          "data": {
            "text/plain": [
              "Matrix([Vector([693, 0, 0, 0]), Vector([0, -21, 0, -9]), Vector([0, 0, -21, 15]), Vector([0, 0, 0, 99])])"
            ],
            "text/html": [
              "<p style=\"text-align:center;\">$\\left[ \\begin{array}{cccc}693&0&0&0\\\\0&-21&0&0\\\\0&0&-21&0\\\\0&-9&15&99\\\\ \\end{array} \\right]$</p>"
            ],
            "image/png": "$\\left[ \\begin{array}{cccc}693&0&0&0\\\\0&-21&0&0\\\\0&0&-21&0\\\\0&-9&15&99\\\\ \\end{array} \\right]$",
            "text/latex": "$\\left[ \\begin{array}{cccc}693&0&0&0\\\\0&-21&0&0\\\\0&0&-21&0\\\\0&-9&15&99\\\\ \\end{array} \\right]$"
          },
          "metadata": {},
          "execution_count": 158
        }
      ]
    },
    {
      "cell_type": "markdown",
      "source": [
        "$\\left[ \\begin{array}{cccc}693&0&0&0\\\\0&-21&0&0\\\\0&0&-21&0\\\\0&-9&15&99\\\\ \\end{array} \\right]$"
      ],
      "metadata": {
        "id": "jgOR9y-6AWxD"
      }
    },
    {
      "cell_type": "code",
      "source": [
        "N&T((11,2))"
      ],
      "metadata": {
        "colab": {
          "base_uri": "https://localhost:8080/",
          "height": 46
        },
        "id": "F139v01Z--0B",
        "outputId": "cbc54877-0c65-4305-abdc-36fba15a695d"
      },
      "execution_count": null,
      "outputs": [
        {
          "output_type": "execute_result",
          "data": {
            "text/plain": [
              "Matrix([Vector([693, 0, 0, 0]), Vector([0, -231, 0, -99]), Vector([0, 0, -21, 15]), Vector([0, 0, 0, 99])])"
            ],
            "text/html": [
              "<p style=\"text-align:center;\">$\\left[ \\begin{array}{cccc}693&0&0&0\\\\0&-231&0&0\\\\0&0&-21&0\\\\0&-99&15&99\\\\ \\end{array} \\right]$</p>"
            ],
            "image/png": "$\\left[ \\begin{array}{cccc}693&0&0&0\\\\0&-231&0&0\\\\0&0&-21&0\\\\0&-99&15&99\\\\ \\end{array} \\right]$",
            "text/latex": "$\\left[ \\begin{array}{cccc}693&0&0&0\\\\0&-231&0&0\\\\0&0&-21&0\\\\0&-99&15&99\\\\ \\end{array} \\right]$"
          },
          "metadata": {},
          "execution_count": 159
        }
      ]
    },
    {
      "cell_type": "markdown",
      "source": [
        "$\\left[ \\begin{array}{cccc}693&0&0&0\\\\0&-231&0&0\\\\0&0&-21&0\\\\0&-99&15&99\\\\ \\end{array} \\right]$"
      ],
      "metadata": {
        "id": "uHPhOgVCAV0f"
      }
    },
    {
      "cell_type": "code",
      "source": [
        "N&T((1,4,2))"
      ],
      "metadata": {
        "colab": {
          "base_uri": "https://localhost:8080/",
          "height": 46
        },
        "id": "8gny2W0K_BiY",
        "outputId": "c6fdc5f2-d1c5-4dda-fa45-d742fff420b9"
      },
      "execution_count": null,
      "outputs": [
        {
          "output_type": "execute_result",
          "data": {
            "text/plain": [
              "Matrix([Vector([693, 0, 0, 0]), Vector([0, -231, 0, 0]), Vector([0, 0, -21, 15]), Vector([0, 0, 0, 99])])"
            ],
            "text/html": [
              "<p style=\"text-align:center;\">$\\left[ \\begin{array}{cccc}693&0&0&0\\\\0&-231&0&0\\\\0&0&-21&0\\\\0&0&15&99\\\\ \\end{array} \\right]$</p>"
            ],
            "image/png": "$\\left[ \\begin{array}{cccc}693&0&0&0\\\\0&-231&0&0\\\\0&0&-21&0\\\\0&0&15&99\\\\ \\end{array} \\right]$",
            "text/latex": "$\\left[ \\begin{array}{cccc}693&0&0&0\\\\0&-231&0&0\\\\0&0&-21&0\\\\0&0&15&99\\\\ \\end{array} \\right]$"
          },
          "metadata": {},
          "execution_count": 160
        }
      ]
    },
    {
      "cell_type": "markdown",
      "source": [
        "$\\left[ \\begin{array}{cccc}693&0&0&0\\\\0&-231&0&0\\\\0&0&-21&0\\\\0&0&15&99\\\\ \\end{array} \\right]$"
      ],
      "metadata": {
        "id": "OdBQY5iBAUzh"
      }
    },
    {
      "cell_type": "code",
      "source": [
        "N&T((33,3))"
      ],
      "metadata": {
        "colab": {
          "base_uri": "https://localhost:8080/",
          "height": 46
        },
        "id": "gYS2xBS5_EzG",
        "outputId": "a2f9cd22-1f86-47f9-ccd0-81c4acfcf0d0"
      },
      "execution_count": null,
      "outputs": [
        {
          "output_type": "execute_result",
          "data": {
            "text/plain": [
              "Matrix([Vector([693, 0, 0, 0]), Vector([0, -231, 0, 0]), Vector([0, 0, -693, 495]), Vector([0, 0, 0, 99])])"
            ],
            "text/html": [
              "<p style=\"text-align:center;\">$\\left[ \\begin{array}{cccc}693&0&0&0\\\\0&-231&0&0\\\\0&0&-693&0\\\\0&0&495&99\\\\ \\end{array} \\right]$</p>"
            ],
            "image/png": "$\\left[ \\begin{array}{cccc}693&0&0&0\\\\0&-231&0&0\\\\0&0&-693&0\\\\0&0&495&99\\\\ \\end{array} \\right]$",
            "text/latex": "$\\left[ \\begin{array}{cccc}693&0&0&0\\\\0&-231&0&0\\\\0&0&-693&0\\\\0&0&495&99\\\\ \\end{array} \\right]$"
          },
          "metadata": {},
          "execution_count": 161
        }
      ]
    },
    {
      "cell_type": "markdown",
      "source": [
        "$\\left[ \\begin{array}{cccc}693&0&0&0\\\\0&-231&0&0\\\\0&0&-693&0\\\\0&0&495&99\\\\ \\end{array} \\right]$"
      ],
      "metadata": {
        "id": "MWys63gUAUJY"
      }
    },
    {
      "cell_type": "code",
      "source": [
        "N&T((-5,4,3))"
      ],
      "metadata": {
        "colab": {
          "base_uri": "https://localhost:8080/",
          "height": 46
        },
        "id": "5OQHbKhy_G9-",
        "outputId": "3cf41e10-2330-4bba-b690-123778dbec7e"
      },
      "execution_count": null,
      "outputs": [
        {
          "output_type": "execute_result",
          "data": {
            "text/plain": [
              "Matrix([Vector([693, 0, 0, 0]), Vector([0, -231, 0, 0]), Vector([0, 0, -693, 0]), Vector([0, 0, 0, 99])])"
            ],
            "text/html": [
              "<p style=\"text-align:center;\">$\\left[ \\begin{array}{cccc}693&0&0&0\\\\0&-231&0&0\\\\0&0&-693&0\\\\0&0&0&99\\\\ \\end{array} \\right]$</p>"
            ],
            "image/png": "$\\left[ \\begin{array}{cccc}693&0&0&0\\\\0&-231&0&0\\\\0&0&-693&0\\\\0&0&0&99\\\\ \\end{array} \\right]$",
            "text/latex": "$\\left[ \\begin{array}{cccc}693&0&0&0\\\\0&-231&0&0\\\\0&0&-693&0\\\\0&0&0&99\\\\ \\end{array} \\right]$"
          },
          "metadata": {},
          "execution_count": 162
        }
      ]
    },
    {
      "cell_type": "markdown",
      "source": [
        "$\\left[ \\begin{array}{cccc}693&0&0&0\\\\0&-231&0&0\\\\0&0&-693&0\\\\0&0&0&99\\\\ \\end{array} \\right]$"
      ],
      "metadata": {
        "id": "7ck4nQiaATOH"
      }
    },
    {
      "cell_type": "code",
      "source": [
        "N&T((fracc(1,693),1))"
      ],
      "metadata": {
        "colab": {
          "base_uri": "https://localhost:8080/",
          "height": 46
        },
        "id": "hEdzCUgD_dK_",
        "outputId": "ee13ae06-7110-43ee-f9cb-1fdadd6ec42a"
      },
      "execution_count": null,
      "outputs": [
        {
          "output_type": "execute_result",
          "data": {
            "text/plain": [
              "Matrix([Vector([1, 0, 0, 0]), Vector([0, -231, 0, 0]), Vector([0, 0, -693, 0]), Vector([0, 0, 0, 99])])"
            ],
            "text/html": [
              "<p style=\"text-align:center;\">$\\left[ \\begin{array}{cccc}1&0&0&0\\\\0&-231&0&0\\\\0&0&-693&0\\\\0&0&0&99\\\\ \\end{array} \\right]$</p>"
            ],
            "image/png": "$\\left[ \\begin{array}{cccc}1&0&0&0\\\\0&-231&0&0\\\\0&0&-693&0\\\\0&0&0&99\\\\ \\end{array} \\right]$",
            "text/latex": "$\\left[ \\begin{array}{cccc}1&0&0&0\\\\0&-231&0&0\\\\0&0&-693&0\\\\0&0&0&99\\\\ \\end{array} \\right]$"
          },
          "metadata": {},
          "execution_count": 163
        }
      ]
    },
    {
      "cell_type": "markdown",
      "source": [
        "$\\left[ \\begin{array}{cccc}1&0&0&0\\\\0&-231&0&0\\\\0&0&-693&0\\\\0&0&0&99\\\\ \\end{array} \\right]$"
      ],
      "metadata": {
        "id": "C-lT3CzIASFF"
      }
    },
    {
      "cell_type": "code",
      "source": [
        "N&T((-fracc(1,231),2))"
      ],
      "metadata": {
        "colab": {
          "base_uri": "https://localhost:8080/",
          "height": 46
        },
        "id": "ql1mG_HB_jf2",
        "outputId": "8d2ec00a-55f7-43cf-d4a1-1846150d98d6"
      },
      "execution_count": null,
      "outputs": [
        {
          "output_type": "execute_result",
          "data": {
            "text/plain": [
              "Matrix([Vector([1, 0, 0, 0]), Vector([0, 1, 0, 0]), Vector([0, 0, -693, 0]), Vector([0, 0, 0, 99])])"
            ],
            "text/html": [
              "<p style=\"text-align:center;\">$\\left[ \\begin{array}{cccc}1&0&0&0\\\\0&1&0&0\\\\0&0&-693&0\\\\0&0&0&99\\\\ \\end{array} \\right]$</p>"
            ],
            "image/png": "$\\left[ \\begin{array}{cccc}1&0&0&0\\\\0&1&0&0\\\\0&0&-693&0\\\\0&0&0&99\\\\ \\end{array} \\right]$",
            "text/latex": "$\\left[ \\begin{array}{cccc}1&0&0&0\\\\0&1&0&0\\\\0&0&-693&0\\\\0&0&0&99\\\\ \\end{array} \\right]$"
          },
          "metadata": {},
          "execution_count": 164
        }
      ]
    },
    {
      "cell_type": "markdown",
      "source": [
        "$\\left[ \\begin{array}{cccc}1&0&0&0\\\\0&1&0&0\\\\0&0&-693&0\\\\0&0&0&99\\\\ \\end{array} \\right]$"
      ],
      "metadata": {
        "id": "INOxxwJFAQvr"
      }
    },
    {
      "cell_type": "code",
      "source": [
        "N&T((-fracc(1,693),3))"
      ],
      "metadata": {
        "colab": {
          "base_uri": "https://localhost:8080/",
          "height": 46
        },
        "id": "tpr9Qbu4_n6f",
        "outputId": "0d26b25d-a4c7-405f-a3b9-b93eabcf0a6a"
      },
      "execution_count": null,
      "outputs": [
        {
          "output_type": "execute_result",
          "data": {
            "text/plain": [
              "Matrix([Vector([1, 0, 0, 0]), Vector([0, 1, 0, 0]), Vector([0, 0, 1, 0]), Vector([0, 0, 0, 99])])"
            ],
            "text/html": [
              "<p style=\"text-align:center;\">$\\left[ \\begin{array}{cccc}1&0&0&0\\\\0&1&0&0\\\\0&0&1&0\\\\0&0&0&99\\\\ \\end{array} \\right]$</p>"
            ],
            "image/png": "$\\left[ \\begin{array}{cccc}1&0&0&0\\\\0&1&0&0\\\\0&0&1&0\\\\0&0&0&99\\\\ \\end{array} \\right]$",
            "text/latex": "$\\left[ \\begin{array}{cccc}1&0&0&0\\\\0&1&0&0\\\\0&0&1&0\\\\0&0&0&99\\\\ \\end{array} \\right]$"
          },
          "metadata": {},
          "execution_count": 165
        }
      ]
    },
    {
      "cell_type": "markdown",
      "source": [
        "$\\left[ \\begin{array}{cccc}1&0&0&0\\\\0&1&0&0\\\\0&0&1&0\\\\0&0&0&99\\\\ \\end{array} \\right]$"
      ],
      "metadata": {
        "id": "q_OHuuViAPQx"
      }
    },
    {
      "cell_type": "code",
      "source": [
        "N&T((fracc(1,99),4))"
      ],
      "metadata": {
        "colab": {
          "base_uri": "https://localhost:8080/",
          "height": 46
        },
        "id": "l8QGUsIT_qzy",
        "outputId": "f6f9a0e7-1215-4cfd-f54c-95e7510496a9"
      },
      "execution_count": null,
      "outputs": [
        {
          "output_type": "execute_result",
          "data": {
            "text/plain": [
              "Matrix([Vector([1, 0, 0, 0]), Vector([0, 1, 0, 0]), Vector([0, 0, 1, 0]), Vector([0, 0, 0, 1])])"
            ],
            "text/html": [
              "<p style=\"text-align:center;\">$\\left[ \\begin{array}{cccc}1&0&0&0\\\\0&1&0&0\\\\0&0&1&0\\\\0&0&0&1\\\\ \\end{array} \\right]$</p>"
            ],
            "image/png": "$\\left[ \\begin{array}{cccc}1&0&0&0\\\\0&1&0&0\\\\0&0&1&0\\\\0&0&0&1\\\\ \\end{array} \\right]$",
            "text/latex": "$\\left[ \\begin{array}{cccc}1&0&0&0\\\\0&1&0&0\\\\0&0&1&0\\\\0&0&0&1\\\\ \\end{array} \\right]$"
          },
          "metadata": {},
          "execution_count": 166
        }
      ]
    },
    {
      "cell_type": "markdown",
      "source": [
        "$\\left[ \\begin{array}{cccc}1&0&0&0\\\\0&1&0&0\\\\0&0&1&0\\\\0&0&0&1\\\\ \\end{array} \\right]$"
      ],
      "metadata": {
        "id": "4u5-htpc_ZsK"
      }
    },
    {
      "cell_type": "markdown",
      "source": [
        "##Ejercicio 5"
      ],
      "metadata": {
        "id": "xlAifNoEAAKQ"
      }
    },
    {
      "cell_type": "markdown",
      "source": [
        "5. Compara tus resultados del ejercicio 1 con el metodo Elim()"
      ],
      "metadata": {
        "id": "C-GfuE9_Cw_H"
      }
    },
    {
      "cell_type": "code",
      "source": [
        "w= Vector((3,1,1,4)); x=Vector((-2,-1,1,-4)); y= Vector((2,-1,2,1)); z= Vector((1,-3,4,2))\n",
        "O= Matrix([w,x,y,z])\n",
        "O"
      ],
      "metadata": {
        "colab": {
          "base_uri": "https://localhost:8080/",
          "height": 46
        },
        "id": "WlcXPnu4BU5h",
        "outputId": "9c692268-ec8f-4caf-9994-0be652ee7378"
      },
      "execution_count": null,
      "outputs": [
        {
          "output_type": "execute_result",
          "data": {
            "text/plain": [
              "Matrix([Vector([3, 1, 1, 4]), Vector([-2, -1, 1, -4]), Vector([2, -1, 2, 1]), Vector([1, -3, 4, 2])])"
            ],
            "text/html": [
              "<p style=\"text-align:center;\">$\\left[ \\begin{array}{cccc}3&-2&2&1\\\\1&-1&-1&-3\\\\1&1&2&4\\\\4&-4&1&2\\\\ \\end{array} \\right]$</p>"
            ],
            "image/png": "$\\left[ \\begin{array}{cccc}3&-2&2&1\\\\1&-1&-1&-3\\\\1&1&2&4\\\\4&-4&1&2\\\\ \\end{array} \\right]$",
            "text/latex": "$\\left[ \\begin{array}{cccc}3&-2&2&1\\\\1&-1&-1&-3\\\\1&1&2&4\\\\4&-4&1&2\\\\ \\end{array} \\right]$"
          },
          "metadata": {},
          "execution_count": 173
        }
      ]
    },
    {
      "cell_type": "code",
      "source": [
        "Elim(O).TrC"
      ],
      "metadata": {
        "colab": {
          "base_uri": "https://localhost:8080/",
          "height": 64
        },
        "id": "mJOPUfGBBZSX",
        "outputId": "76afac34-c8d7-4593-fd03-00fa0fb13a5a"
      },
      "execution_count": null,
      "outputs": [
        {
          "output_type": "execute_result",
          "data": {
            "text/plain": [
              "T([(3, 2), (2, 1, 2), (3, 3), (-2, 1, 3), (3, 4), (-1, 1, 4), (-5, 2, 3), (-10, 2, 4), (7, 4), (-13, 3, 4)])"
            ],
            "text/html": [
              "<p style=\"text-align:center;\">$\\underset{\\begin{subarray}{c} \\left[\\left(3\\right)\\mathbf{2}\\right]\\\\\\left[\\left(2\\right)\\mathbf{1}+\\mathbf{2} \\right]\\\\\\left[\\left(3\\right)\\mathbf{3}\\right]\\\\\\left[\\left(-2\\right)\\mathbf{1}+\\mathbf{3} \\right]\\\\\\left[\\left(3\\right)\\mathbf{4}\\right]\\\\\\left[\\left(-1\\right)\\mathbf{1}+\\mathbf{4} \\right]\\\\\\left[\\left(-5\\right)\\mathbf{2}+\\mathbf{3} \\right]\\\\\\left[\\left(-10\\right)\\mathbf{2}+\\mathbf{4} \\right]\\\\\\left[\\left(7\\right)\\mathbf{4}\\right]\\\\\\left[\\left(-13\\right)\\mathbf{3}+\\mathbf{4} \\right]\\end{subarray}}{\\pmb{\\tau}}$</p>"
            ]
          },
          "metadata": {},
          "execution_count": 174
        }
      ]
    },
    {
      "cell_type": "markdown",
      "source": [
        "$\\underset{\\begin{subarray}{c} \\left[\\left(3\\right)\\mathbf{2}\\right]\\\\\\left[\\left(2\\right)\\mathbf{1}+\\mathbf{2} \\right]\\\\\\left[\\left(3\\right)\\mathbf{3}\\right]\\\\\\left[\\left(-2\\right)\\mathbf{1}+\\mathbf{3} \\right]\\\\\\left[\\left(3\\right)\\mathbf{4}\\right]\\\\\\left[\\left(-1\\right)\\mathbf{1}+\\mathbf{4} \\right]\\\\\\left[\\left(-5\\right)\\mathbf{2}+\\mathbf{3} \\right]\\\\\\left[\\left(-10\\right)\\mathbf{2}+\\mathbf{4} \\right]\\\\\\left[\\left(7\\right)\\mathbf{4}\\right]\\\\\\left[\\left(-13\\right)\\mathbf{3}+\\mathbf{4} \\right]\\end{subarray}}{\\pmb{\\tau}}$"
      ],
      "metadata": {
        "id": "gKjFKn1FBgNe"
      }
    },
    {
      "cell_type": "markdown",
      "source": [
        "##Ejercicio 6"
      ],
      "metadata": {
        "id": "uD1yJGIwAzdP"
      }
    },
    {
      "cell_type": "markdown",
      "source": [
        " 6. Compara tus resultados del ejercicio 4 con el metodo ElimGJ()"
      ],
      "metadata": {
        "id": "LQ2qXfhaIRis"
      }
    },
    {
      "cell_type": "code",
      "source": [
        "ElimGJ(N,1)"
      ],
      "metadata": {
        "colab": {
          "base_uri": "https://localhost:8080/",
          "height": 300
        },
        "id": "aQ2X-pZT8YBg",
        "outputId": "e70edc7a-a597-47c7-dab6-d03c8418eddf"
      },
      "execution_count": null,
      "outputs": [
        {
          "output_type": "display_data",
          "data": {
            "text/plain": [
              "<IPython.core.display.Math object>"
            ],
            "text/latex": "$\\displaystyle \\left[ \\begin{array}{cccc}3&-2&2&1\\\\1&-1&-1&-3\\\\1&1&2&4\\\\4&-4&1&2\\\\ \\end{array} \\right]\\xrightarrow{\\underset{\\begin{subarray}{c} \\left[\\left(3\\right)\\mathbf{2}\\right]\\\\\\left[\\left(2\\right)\\mathbf{1}+\\mathbf{2} \\right]\\\\\\left[\\left(3\\right)\\mathbf{3}\\right]\\\\\\left[\\left(-2\\right)\\mathbf{1}+\\mathbf{3} \\right]\\\\\\left[\\left(3\\right)\\mathbf{4}\\right]\\\\\\left[\\left(-1\\right)\\mathbf{1}+\\mathbf{4} \\right]\\end{subarray}}{\\pmb{\\tau}}}\\left[ \\begin{array}{cccc}3&0&0&0\\\\1&-1&-5&-10\\\\1&5&4&11\\\\4&-4&-5&2\\\\ \\end{array} \\right]\\xrightarrow{\\underset{\\begin{subarray}{c} \\left[\\left(1\\right)\\mathbf{2}+\\mathbf{1} \\right]\\\\\\left[\\left(-5\\right)\\mathbf{2}+\\mathbf{3} \\right]\\\\\\left[\\left(-10\\right)\\mathbf{2}+\\mathbf{4} \\right]\\end{subarray}}{\\pmb{\\tau}}}\\left[ \\begin{array}{cccc}3&0&0&0\\\\0&-1&0&0\\\\6&5&-21&-39\\\\0&-4&15&42\\\\ \\end{array} \\right]\\xrightarrow{\\underset{\\begin{subarray}{c} \\left[\\left(7\\right)\\mathbf{1}\\right]\\\\\\left[\\left(2\\right)\\mathbf{3}+\\mathbf{1} \\right]\\\\\\left[\\left(21\\right)\\mathbf{2}\\right]\\\\\\left[\\left(5\\right)\\mathbf{3}+\\mathbf{2} \\right]\\\\\\left[\\left(7\\right)\\mathbf{4}\\right]\\\\\\left[\\left(-13\\right)\\mathbf{3}+\\mathbf{4} \\right]\\end{subarray}}{\\pmb{\\tau}}}\\left[ \\begin{array}{cccc}21&0&0&0\\\\0&-21&0&0\\\\0&0&-21&0\\\\30&-9&15&99\\\\ \\end{array} \\right]\\xrightarrow{\\underset{\\begin{subarray}{c} \\left[\\left(33\\right)\\mathbf{1}\\right]\\\\\\left[\\left(-10\\right)\\mathbf{4}+\\mathbf{1} \\right]\\\\\\left[\\left(11\\right)\\mathbf{2}\\right]\\\\\\left[\\left(1\\right)\\mathbf{4}+\\mathbf{2} \\right]\\\\\\left[\\left(33\\right)\\mathbf{3}\\right]\\\\\\left[\\left(-5\\right)\\mathbf{4}+\\mathbf{3} \\right]\\end{subarray}}{\\pmb{\\tau}}}\\left[ \\begin{array}{cccc}693&0&0&0\\\\0&-231&0&0\\\\0&0&-693&0\\\\0&0&0&99\\\\ \\end{array} \\right]\\xrightarrow{\\underset{\\begin{subarray}{c} \\left[\\left(\\frac{1}{693}\\right)\\mathbf{1}\\right]\\\\\\left[\\left(- \\frac{1}{231}\\right)\\mathbf{2}\\right]\\\\\\left[\\left(- \\frac{1}{693}\\right)\\mathbf{3}\\right]\\\\\\left[\\left(\\frac{1}{99}\\right)\\mathbf{4}\\right]\\end{subarray}}{\\pmb{\\tau}}}\\left[ \\begin{array}{cccc}1&0&0&0\\\\0&1&0&0\\\\0&0&1&0\\\\0&0&0&1\\\\ \\end{array} \\right]$"
          },
          "metadata": {}
        },
        {
          "output_type": "execute_result",
          "data": {
            "text/plain": [
              "Matrix([Vector([1, 0, 0, 0]), Vector([0, 1, 0, 0]), Vector([0, 0, 1, 0]), Vector([0, 0, 0, 1])])"
            ],
            "text/html": [
              "<p style=\"text-align:center;\">$\\left[ \\begin{array}{cccc}1&0&0&0\\\\0&1&0&0\\\\0&0&1&0\\\\0&0&0&1\\\\ \\end{array} \\right]$</p>"
            ],
            "image/png": "$\\left[ \\begin{array}{cccc}1&0&0&0\\\\0&1&0&0\\\\0&0&1&0\\\\0&0&0&1\\\\ \\end{array} \\right]$",
            "text/latex": "$\\left[ \\begin{array}{cccc}1&0&0&0\\\\0&1&0&0\\\\0&0&1&0\\\\0&0&0&1\\\\ \\end{array} \\right]$"
          },
          "metadata": {},
          "execution_count": 116
        }
      ]
    },
    {
      "cell_type": "markdown",
      "source": [
        "##Ejercicio 7"
      ],
      "metadata": {
        "id": "8hdmlNRhA183"
      }
    },
    {
      "cell_type": "markdown",
      "source": [
        "7. Encuentra la inversa de la matriz del ejercicio 1."
      ],
      "metadata": {
        "id": "2F3XtwbpIhOO"
      }
    },
    {
      "cell_type": "markdown",
      "source": [
        "##Ejercicio 8"
      ],
      "metadata": {
        "id": "aaR60pOdA4N5"
      }
    },
    {
      "cell_type": "markdown",
      "source": [
        "8. Resuelva el siguiente sistema de ecuaciones:\n",
        "\n",
        "$$ \\begin{array}{ccc}5x&+7y&-z&=6\\\\2x&+10y&-2z&=4\\\\x&+y&+z&=0\\\\ \\end{array} $$"
      ],
      "metadata": {
        "id": "tABrI61xarPE"
      }
    }
  ]
}