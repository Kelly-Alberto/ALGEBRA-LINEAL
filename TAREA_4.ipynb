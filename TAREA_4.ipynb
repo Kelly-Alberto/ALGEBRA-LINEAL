{
  "nbformat": 4,
  "nbformat_minor": 0,
  "metadata": {
    "colab": {
      "provenance": []
    },
    "kernelspec": {
      "name": "python3",
      "display_name": "Python 3"
    },
    "language_info": {
      "name": "python"
    }
  },
  "cells": [
    {
      "cell_type": "code",
      "execution_count": 1,
      "metadata": {
        "id": "uisCXUFKkJE-",
        "colab": {
          "base_uri": "https://localhost:8080/"
        },
        "outputId": "2a4f067f-76a2-4856-aaa3-06d531254cf0"
      },
      "outputs": [
        {
          "output_type": "stream",
          "name": "stdout",
          "text": [
            "Collecting nacal\n",
            "  Downloading nacal-0.1.30-py3-none-any.whl (33 kB)\n",
            "Requirement already satisfied: sympy>=1.1.0 in /usr/local/lib/python3.10/dist-packages (from nacal) (1.12)\n",
            "Requirement already satisfied: mpmath>=0.19 in /usr/local/lib/python3.10/dist-packages (from sympy>=1.1.0->nacal) (1.3.0)\n",
            "Installing collected packages: nacal\n",
            "Successfully installed nacal-0.1.30\n"
          ]
        }
      ],
      "source": [
        "!pip install --target=$nb_path nacal\n",
        "from nacal import *\n",
        "from IPython.display import display, Math, Latex"
      ]
    },
    {
      "cell_type": "markdown",
      "metadata": {
        "id": "LiJ1aW_Nj1X5"
      },
      "source": [
        "### Primer ejercicio\n",
        "\n"
      ]
    },
    {
      "cell_type": "markdown",
      "metadata": {
        "id": "roLWrzwXj1X6"
      },
      "source": [
        "Cree la matriz\n",
        "$${A}=\\begin{bmatrix}1&0&0&0\\\\2&0&0&0\\\\0&3&3&0\\\\0&3&4&1\\\\0&1&2&1\\end{bmatrix}$$\n",
        "\n"
      ]
    },
    {
      "cell_type": "code",
      "source": [
        "a = Vector([1,2,0,0,0])\n",
        "b = Vector([0,0,3,3,1])\n",
        "c = Vector([0,0,3,4,2])\n",
        "d = Vector([0,0,0,1,1])\n",
        "A = Matrix([a,b,c,d])\n",
        "Latex(latex(A))"
      ],
      "metadata": {
        "id": "aptVBvt0ks39",
        "colab": {
          "base_uri": "https://localhost:8080/",
          "height": 119
        },
        "outputId": "4e0c4463-9b12-4f66-e948-7476322b3643"
      },
      "execution_count": 2,
      "outputs": [
        {
          "output_type": "execute_result",
          "data": {
            "text/plain": [
              "<IPython.core.display.Latex object>"
            ],
            "text/latex": "\\left[ \\begin{array}{cccc}1&0&0&0\\\\2&0&0&0\\\\0&3&3&0\\\\0&3&4&1\\\\0&1&2&1\\\\ \\end{array} \\right]"
          },
          "metadata": {},
          "execution_count": 2
        }
      ]
    },
    {
      "cell_type": "markdown",
      "metadata": {
        "id": "uXXsQDPtj1X6"
      },
      "source": [
        "Cree a partir de ${A}$ una matriz cuya única columna sea la\n",
        "primera columna de ${A}$\n",
        "\n"
      ]
    },
    {
      "cell_type": "code",
      "source": [
        "A1 = Matrix([A|1])\n",
        "Latex(latex(A1))"
      ],
      "metadata": {
        "id": "4ks9WtQ2k1zI",
        "colab": {
          "base_uri": "https://localhost:8080/",
          "height": 119
        },
        "outputId": "128ff474-e332-4d87-cafb-ca8e16f2d5c9"
      },
      "execution_count": 3,
      "outputs": [
        {
          "output_type": "execute_result",
          "data": {
            "text/plain": [
              "<IPython.core.display.Latex object>"
            ],
            "text/latex": "\\left[ \\begin{array}{c}1\\\\2\\\\0\\\\0\\\\0\\\\ \\end{array} \\right]"
          },
          "metadata": {},
          "execution_count": 3
        }
      ]
    },
    {
      "cell_type": "markdown",
      "metadata": {
        "id": "M8GNqqerj1X7"
      },
      "source": [
        "Cree a partir de ${A}$ una matriz cuya única columna sea la segunda\n",
        "fila de ${A}$\n",
        "\n"
      ]
    },
    {
      "cell_type": "code",
      "source": [
        "A2 = Matrix([2|A])\n",
        "Latex(latex(A2))"
      ],
      "metadata": {
        "id": "G13H5wEAlBM-",
        "colab": {
          "base_uri": "https://localhost:8080/",
          "height": 98
        },
        "outputId": "9698a39a-65b8-43f6-d997-b265088dcd73"
      },
      "execution_count": 4,
      "outputs": [
        {
          "output_type": "execute_result",
          "data": {
            "text/plain": [
              "<IPython.core.display.Latex object>"
            ],
            "text/latex": "\\left[ \\begin{array}{c}2\\\\0\\\\0\\\\0\\\\ \\end{array} \\right]"
          },
          "metadata": {},
          "execution_count": 4
        }
      ]
    },
    {
      "cell_type": "markdown",
      "metadata": {
        "id": "AKjPfZxaj1X8"
      },
      "source": [
        "<div class=\"EXERCISE\">\n",
        "Cree a partir de $A$ una matriz cuya única fila sea la primera\n",
        "fila de $A$\n",
        "\n",
        "</div>\n",
        "\n"
      ]
    },
    {
      "cell_type": "code",
      "source": [
        "A3=Matrix([1|A])\n",
        "A3=~A3\n",
        "Latex(latex(A3))"
      ],
      "metadata": {
        "id": "d0omQE0rlGMW",
        "colab": {
          "base_uri": "https://localhost:8080/",
          "height": 38
        },
        "outputId": "86df6dfe-93c6-45a6-e157-2f2a0e802f3e"
      },
      "execution_count": 5,
      "outputs": [
        {
          "output_type": "execute_result",
          "data": {
            "text/plain": [
              "<IPython.core.display.Latex object>"
            ],
            "text/latex": "\\left[ \\begin{array}{cccc}1&0&0&0\\\\ \\end{array} \\right]"
          },
          "metadata": {},
          "execution_count": 5
        }
      ]
    },
    {
      "cell_type": "markdown",
      "metadata": {
        "id": "BaPPzRJjj1X9"
      },
      "source": [
        "### Segundo ejercicio\n",
        "\n"
      ]
    },
    {
      "cell_type": "markdown",
      "metadata": {
        "id": "96CPH5a_j1X9"
      },
      "source": [
        "Calcule el siguiente vector: 3 veces la primera columna de $A$\n",
        "menos la segunda columna de $A$ mas 2 veces la tercera columna\n",
        "menos 3 veces la última columna de $A$\n",
        "\n"
      ]
    },
    {
      "cell_type": "code",
      "source": [
        "opt=(3*A|1)-(A|2)+(2*A|3)-(3*A|4)\n",
        "Latex(latex(opt))"
      ],
      "metadata": {
        "id": "frH6ZOYnmErd",
        "colab": {
          "base_uri": "https://localhost:8080/",
          "height": 119
        },
        "outputId": "650eae5a-8faa-403f-a98e-1dcc7a1a5d41"
      },
      "execution_count": 6,
      "outputs": [
        {
          "output_type": "execute_result",
          "data": {
            "text/plain": [
              "<IPython.core.display.Latex object>"
            ],
            "text/latex": "\\begin{pmatrix}3\\\\ 6\\\\ 3\\\\ 2\\\\ 0\\end{pmatrix}"
          },
          "metadata": {},
          "execution_count": 6
        }
      ]
    },
    {
      "cell_type": "markdown",
      "metadata": {
        "id": "MxEQJrEKj1X-"
      },
      "source": [
        "### Tercer ejercicio\n",
        "\n"
      ]
    },
    {
      "cell_type": "markdown",
      "metadata": {
        "id": "dsc0wXPHj1YA"
      },
      "source": [
        "Proporcione ejemplos de matrices 3 por 3 no nulas de los siguientes\n",
        "tipos de matrices:\n",
        "\n",
        "-   Una matriz diagonal\n",
        "\n"
      ]
    },
    {
      "cell_type": "code",
      "source": [
        "a=Vector([2,0,0])\n",
        "b=Vector([0,8,0])\n",
        "c=Vector([0,0,3])\n",
        "B=Matrix([a,b,c])\n",
        "Latex(latex(B))"
      ],
      "metadata": {
        "id": "T6blJI3YmQt1",
        "colab": {
          "base_uri": "https://localhost:8080/",
          "height": 78
        },
        "outputId": "9ba400b1-f56c-4343-9dd5-85237bf39ed0"
      },
      "execution_count": 7,
      "outputs": [
        {
          "output_type": "execute_result",
          "data": {
            "text/plain": [
              "<IPython.core.display.Latex object>"
            ],
            "text/latex": "\\left[ \\begin{array}{ccc}2&0&0\\\\0&8&0\\\\0&0&3\\\\ \\end{array} \\right]"
          },
          "metadata": {},
          "execution_count": 7
        }
      ]
    },
    {
      "cell_type": "markdown",
      "metadata": {
        "id": "j5rXy3Waj1YA"
      },
      "source": [
        "-   Una matriz simétrica\n",
        "\n"
      ]
    },
    {
      "cell_type": "code",
      "source": [
        "a=Vector([1,2,3])\n",
        "b=Vector([2,9,9])\n",
        "c=Vector([3,9,7])\n",
        "B=Matrix([a,b,c])\n",
        "Latex(latex(B))"
      ],
      "metadata": {
        "id": "zDghbArCmQ-v",
        "colab": {
          "base_uri": "https://localhost:8080/",
          "height": 78
        },
        "outputId": "5ba2479b-e76e-455e-8e9e-316735acd0a5"
      },
      "execution_count": 9,
      "outputs": [
        {
          "output_type": "execute_result",
          "data": {
            "text/plain": [
              "<IPython.core.display.Latex object>"
            ],
            "text/latex": "\\left[ \\begin{array}{ccc}1&2&3\\\\2&9&9\\\\3&9&7\\\\ \\end{array} \\right]"
          },
          "metadata": {},
          "execution_count": 9
        }
      ]
    },
    {
      "cell_type": "markdown",
      "metadata": {
        "id": "UHEAMjHQj1YB"
      },
      "source": [
        "-   Una matriz triangular superior (es decir, que todos los elementos\n",
        "    por *debajo* de la diagonal son nulos).\n",
        "\n"
      ]
    },
    {
      "cell_type": "code",
      "source": [
        "a=Vector([1,0,0])\n",
        "b=Vector([9,5,0])\n",
        "c=Vector([2,5,6])\n",
        "B=Matrix([a,b,c])\n",
        "Latex(latex(B))"
      ],
      "metadata": {
        "id": "WIJVEVe2mV0E",
        "colab": {
          "base_uri": "https://localhost:8080/",
          "height": 78
        },
        "outputId": "fd8bc0fb-07ae-46f8-958b-51c32d7db13e"
      },
      "execution_count": 11,
      "outputs": [
        {
          "output_type": "execute_result",
          "data": {
            "text/plain": [
              "<IPython.core.display.Latex object>"
            ],
            "text/latex": "\\left[ \\begin{array}{ccc}1&9&2\\\\0&5&5\\\\0&0&6\\\\ \\end{array} \\right]"
          },
          "metadata": {},
          "execution_count": 11
        }
      ]
    },
    {
      "cell_type": "markdown",
      "metadata": {
        "id": "3y1hiNo_j1YC"
      },
      "source": [
        "-   Una matriz antisimétrica (es decir, que su transpuesta es igual a su opuesta: $ {A}^{T}=-A $ ).\n",
        "\n"
      ]
    },
    {
      "cell_type": "code",
      "source": [
        "a=Vector([0,-3,-5])\n",
        "b=Vector([3,0,-2])\n",
        "c=Vector([5,2,0])\n",
        "B=Matrix([a,b,c])\n",
        "display(Latex(latex(~B)))\n",
        "display(Latex(latex(-B)))"
      ],
      "metadata": {
        "colab": {
          "base_uri": "https://localhost:8080/",
          "height": 139
        },
        "id": "B7AFm7hVotsM",
        "outputId": "fa7b9bb7-1a4f-41e3-8fdb-acdce7b99ce8"
      },
      "execution_count": 14,
      "outputs": [
        {
          "output_type": "display_data",
          "data": {
            "text/plain": [
              "<IPython.core.display.Latex object>"
            ],
            "text/latex": "\\left[ \\begin{array}{ccc}0&-3&-5\\\\3&0&-2\\\\5&2&0\\\\ \\end{array} \\right]"
          },
          "metadata": {}
        },
        {
          "output_type": "display_data",
          "data": {
            "text/plain": [
              "<IPython.core.display.Latex object>"
            ],
            "text/latex": "\\left[ \\begin{array}{ccc}0&-3&-5\\\\3&0&-2\\\\5&2&0\\\\ \\end{array} \\right]"
          },
          "metadata": {}
        }
      ]
    },
    {
      "cell_type": "markdown",
      "source": [
        "### Cuarto ejercicio"
      ],
      "metadata": {
        "id": "Y-n7DWXJn7Zk"
      }
    },
    {
      "cell_type": "markdown",
      "metadata": {
        "ein.tags": "worksheet-0",
        "id": "053nn7kNnOXz"
      },
      "source": [
        "# Propiedades del producto Matriz por vector\n",
        "\n",
        "Genere una matriz $A$ (con el número de filas y columnas que\n",
        "desee) y dos vectores ${b}$ y ${c}$ con tantos componentes\n",
        "como columnas tenga $A$."
      ]
    },
    {
      "cell_type": "code",
      "execution_count": 20,
      "metadata": {
        "autoscroll": false,
        "ein.hycell": false,
        "ein.tags": "worksheet-0",
        "id": "MU-2x1n8Vpzq",
        "colab": {
          "base_uri": "https://localhost:8080/",
          "height": 119
        },
        "outputId": "0e4f4912-08bb-47e6-febb-7ab6d65554bd"
      },
      "outputs": [
        {
          "output_type": "execute_result",
          "data": {
            "text/plain": [
              "<IPython.core.display.Latex object>"
            ],
            "text/latex": "\\left[ \\begin{array}{cccc}1&7&2&9\\\\2&6&5&3\\\\4&8&4&2\\\\5&2&7&5\\\\7&9&6&4\\\\ \\end{array} \\right]"
          },
          "metadata": {},
          "execution_count": 20
        }
      ],
      "source": [
        "# Defina una matriz A\n",
        "a = Vector([1,2,4,5,7])\n",
        "b = Vector([7,6,8,2,9])\n",
        "c = Vector([2,5,4,7,6])\n",
        "d = Vector([9,3,2,5,4])\n",
        "A = Matrix([a,b,c,d])\n",
        "Latex(latex(A))"
      ]
    },
    {
      "cell_type": "code",
      "execution_count": 62,
      "metadata": {
        "autoscroll": false,
        "ein.hycell": false,
        "ein.tags": "worksheet-0",
        "id": "uoVFYfjqVpzq"
      },
      "outputs": [],
      "source": [
        "# Defina el vector b con tantos componentes como columnas tenga la matriz A\n",
        "b = Vector([5,2,7,3])"
      ]
    },
    {
      "cell_type": "code",
      "execution_count": 63,
      "metadata": {
        "autoscroll": false,
        "ein.hycell": false,
        "ein.tags": "worksheet-0",
        "id": "5HbLkf1LVpzr"
      },
      "outputs": [],
      "source": [
        "# Defina el vector c con tantos componentes como el vector b\n",
        "c = Vector([5,4,2,9])"
      ]
    },
    {
      "cell_type": "markdown",
      "metadata": {
        "ein.tags": "worksheet-0",
        "id": "HQu3l79dVpzr"
      },
      "source": [
        "Y ahora verifique las propiedades vistas en el curso (en todos los\n",
        "casos, verifique sus ejemplos también con lapiz y papel... recuerde\n",
        "que primero se realizan las operaciones encerradas entre paréntesis).\n",
        "\n",
        "$$ A({b}+{c}) = A{b} + A{c} $$"
      ]
    },
    {
      "cell_type": "code",
      "execution_count": 64,
      "metadata": {
        "autoscroll": false,
        "ein.hycell": false,
        "ein.tags": "worksheet-0",
        "id": "hOUqYCBHVpzr",
        "colab": {
          "base_uri": "https://localhost:8080/",
          "height": 119
        },
        "outputId": "75a561c8-fe50-469b-b4e9-401a3f6ef0a5"
      },
      "outputs": [
        {
          "output_type": "execute_result",
          "data": {
            "text/plain": [
              "<IPython.core.display.Latex object>"
            ],
            "text/latex": "\\begin{pmatrix}178\\\\ 137\\\\ 148\\\\ 185\\\\ 226\\end{pmatrix}"
          },
          "metadata": {},
          "execution_count": 64
        }
      ],
      "source": [
        "# escriba aquí la parte izquierda de la ecuación: A*(b+c)\n",
        "Latex(latex(A*(b+c)))"
      ]
    },
    {
      "cell_type": "code",
      "execution_count": 65,
      "metadata": {
        "autoscroll": false,
        "ein.hycell": false,
        "ein.tags": "worksheet-0",
        "id": "86RAGkgoVpzs",
        "colab": {
          "base_uri": "https://localhost:8080/",
          "height": 119
        },
        "outputId": "a72718c8-748b-4397-9bb9-081f2a6ae9da"
      },
      "outputs": [
        {
          "output_type": "execute_result",
          "data": {
            "text/plain": [
              "<IPython.core.display.Latex object>"
            ],
            "text/latex": "\\begin{pmatrix}178\\\\ 137\\\\ 148\\\\ 185\\\\ 226\\end{pmatrix}"
          },
          "metadata": {},
          "execution_count": 65
        }
      ],
      "source": [
        "# escriba aquí la parte derecha de la ecuación\n",
        "Latex(latex((A*b)+(A*c)))"
      ]
    },
    {
      "cell_type": "markdown",
      "source": [
        "### Quinto ejercicio"
      ],
      "metadata": {
        "id": "u0ri5khNnCKl"
      }
    },
    {
      "cell_type": "markdown",
      "metadata": {
        "ein.tags": "worksheet-0",
        "id": "9pvYQ32mVpzs"
      },
      "source": [
        "Decida un valor para el escalar $\\lambda$ y verifique que\n",
        "$$ A(\\lambda{b}) = \\lambda(A{b})$$"
      ]
    },
    {
      "cell_type": "code",
      "execution_count": 66,
      "metadata": {
        "autoscroll": false,
        "ein.hycell": false,
        "ein.tags": "worksheet-0",
        "id": "E4IN_Yy2Vpzs",
        "colab": {
          "base_uri": "https://localhost:8080/",
          "height": 119
        },
        "outputId": "4873808d-a0f5-4e23-ec98-f0b2c3738f20"
      },
      "outputs": [
        {
          "output_type": "execute_result",
          "data": {
            "text/plain": [
              "<IPython.core.display.Latex object>"
            ],
            "text/latex": "\\begin{pmatrix}600\\\\ 660\\\\ 700\\\\ 930\\\\ 1070\\end{pmatrix}"
          },
          "metadata": {},
          "execution_count": 66
        }
      ],
      "source": [
        "# escriba aquí la parte izquierda de la ecuación\n",
        "esc_lambda = 10\n",
        "Latex(latex(A*(esc_lambda*b)))"
      ]
    },
    {
      "cell_type": "code",
      "execution_count": 67,
      "metadata": {
        "autoscroll": false,
        "ein.hycell": false,
        "ein.tags": "worksheet-0",
        "id": "Ceudy6FmVpzt",
        "colab": {
          "base_uri": "https://localhost:8080/",
          "height": 119
        },
        "outputId": "2ce6ce60-b7b7-46ec-d153-bb5cc7a8c1da"
      },
      "outputs": [
        {
          "output_type": "execute_result",
          "data": {
            "text/plain": [
              "<IPython.core.display.Latex object>"
            ],
            "text/latex": "\\begin{pmatrix}600\\\\ 660\\\\ 700\\\\ 930\\\\ 1070\\end{pmatrix}"
          },
          "metadata": {},
          "execution_count": 67
        }
      ],
      "source": [
        "# escriba aquí la parte derecha de la ecuación\n",
        "esc_lambda = 10\n",
        "Latex(latex(A*(esc_lambda*b)))"
      ]
    },
    {
      "cell_type": "markdown",
      "metadata": {
        "ein.tags": "worksheet-0",
        "id": "OWAfF_SgVpzt"
      },
      "source": [
        "Verifique que\n",
        "$$ A(\\lambda{b}) = (\\lambda A){b}$$\n"
      ]
    },
    {
      "cell_type": "code",
      "execution_count": 68,
      "metadata": {
        "autoscroll": false,
        "ein.hycell": false,
        "ein.tags": "worksheet-0",
        "id": "ZRimSgGCVpzu",
        "colab": {
          "base_uri": "https://localhost:8080/",
          "height": 119
        },
        "outputId": "c5dc5dc1-0bde-4e67-9af1-ccf670a3eaec"
      },
      "outputs": [
        {
          "output_type": "execute_result",
          "data": {
            "text/plain": [
              "<IPython.core.display.Latex object>"
            ],
            "text/latex": "\\begin{pmatrix}600\\\\ 660\\\\ 700\\\\ 930\\\\ 1070\\end{pmatrix}"
          },
          "metadata": {},
          "execution_count": 68
        }
      ],
      "source": [
        "# escriba aquí la parte derecha de la ecuación\n",
        "Latex(latex(A*(esc_lambda*b)))"
      ]
    },
    {
      "cell_type": "markdown",
      "metadata": {
        "ein.tags": "worksheet-0",
        "id": "YlRYLashVpzu"
      },
      "source": [
        "Compuebe que en este caso no son necesarios los paréntesis:\n",
        "$$\\lambda A{b}\\;$$ (aunque en Python siempre necesite\n",
        "escribir los símbolos de producto `*`). Pruebe a colocar el escalar en\n",
        "cualquier posición, pero mantenga la matriz a la izquierda del vector."
      ]
    },
    {
      "cell_type": "code",
      "execution_count": 69,
      "metadata": {
        "autoscroll": false,
        "ein.hycell": false,
        "ein.tags": "worksheet-0",
        "id": "8mmZwTxMVpzv",
        "colab": {
          "base_uri": "https://localhost:8080/",
          "height": 119
        },
        "outputId": "57e0f40a-103f-49e3-a6da-242e81b97353"
      },
      "outputs": [
        {
          "output_type": "execute_result",
          "data": {
            "text/plain": [
              "<IPython.core.display.Latex object>"
            ],
            "text/latex": "\\begin{pmatrix}600\\\\ 660\\\\ 700\\\\ 930\\\\ 1070\\end{pmatrix}"
          },
          "metadata": {},
          "execution_count": 69
        }
      ],
      "source": [
        "# Por ejemplo 3*A*b, o A*3*b, o A*b*3\n",
        "Latex(latex(esc_lambda*A*b))"
      ]
    },
    {
      "cell_type": "markdown",
      "source": [
        "### Sexto ejercicio"
      ],
      "metadata": {
        "id": "nRqO8LxBoNSI"
      }
    },
    {
      "cell_type": "markdown",
      "metadata": {
        "ein.tags": "worksheet-0",
        "id": "VSZ8vItpVpzv"
      },
      "source": [
        "Genere una matriz ${B}$ del mismo orden que $A$"
      ]
    },
    {
      "cell_type": "code",
      "execution_count": 71,
      "metadata": {
        "autoscroll": false,
        "ein.hycell": false,
        "ein.tags": "worksheet-0",
        "id": "NkFmEED_Vpzw",
        "colab": {
          "base_uri": "https://localhost:8080/",
          "height": 119
        },
        "outputId": "b894fba1-d8af-49de-a9e7-97879f2573ea"
      },
      "outputs": [
        {
          "output_type": "execute_result",
          "data": {
            "text/plain": [
              "<IPython.core.display.Latex object>"
            ],
            "text/latex": "\\left[ \\begin{array}{cccc}7&1&9&2\\\\6&2&3&5\\\\8&4&2&4\\\\2&5&5&7\\\\9&7&4&6\\\\ \\end{array} \\right]"
          },
          "metadata": {},
          "execution_count": 71
        }
      ],
      "source": [
        "a1 = Vector([1,2,4,5,7])\n",
        "b1 = Vector([7,6,8,2,9])\n",
        "c1 = Vector([2,5,4,7,6])\n",
        "d1 = Vector([9,3,2,5,4])\n",
        "B = Matrix([b1,a1,d1,c1])\n",
        "Latex(latex(B))"
      ]
    },
    {
      "cell_type": "markdown",
      "metadata": {
        "ein.tags": "worksheet-0",
        "id": "nqSTOOY0Vpzw"
      },
      "source": [
        "Verifique que\n",
        "\n",
        "$$ (A+B){c} = A{c} + B{c}$$"
      ]
    },
    {
      "cell_type": "code",
      "execution_count": 72,
      "metadata": {
        "autoscroll": false,
        "ein.hycell": false,
        "ein.tags": "worksheet-0",
        "id": "c1YZo_1NVpzx",
        "colab": {
          "base_uri": "https://localhost:8080/",
          "height": 136
        },
        "outputId": "6d3a7761-b222-44bf-d2a5-516b863d80e1"
      },
      "outputs": [
        {
          "output_type": "display_data",
          "data": {
            "text/plain": [
              "<IPython.core.display.Latex object>"
            ],
            "text/latex": "\\begin{pmatrix}193\\\\ 160\\\\ 174\\\\ 195\\\\ 254\\end{pmatrix}"
          },
          "metadata": {}
        },
        {
          "output_type": "stream",
          "name": "stdout",
          "text": [
            "No funciona sin parentesis\n"
          ]
        }
      ],
      "source": [
        "# escriba aquí la parte izquierda de la ecuación (¿funciona sin paréntesis?)\n",
        "display(Latex(latex((A+B)*c)))\n",
        "print(\"No funciona sin parentesis\")"
      ]
    },
    {
      "cell_type": "code",
      "execution_count": 73,
      "metadata": {
        "autoscroll": false,
        "ein.hycell": false,
        "ein.tags": "worksheet-0",
        "id": "2utRvpmSVpzx",
        "colab": {
          "base_uri": "https://localhost:8080/",
          "height": 119
        },
        "outputId": "8f74e316-74c9-4e18-f67a-34fa212c105d"
      },
      "outputs": [
        {
          "output_type": "display_data",
          "data": {
            "text/plain": [
              "<IPython.core.display.Latex object>"
            ],
            "text/latex": "\\begin{pmatrix}193\\\\ 160\\\\ 174\\\\ 195\\\\ 254\\end{pmatrix}"
          },
          "metadata": {}
        }
      ],
      "source": [
        "# escriba aquí la parte derecha de la ecuación\n",
        "display(Latex(latex((A*c)+(B*c))))"
      ]
    },
    {
      "cell_type": "markdown",
      "metadata": {
        "ein.tags": "worksheet-0",
        "id": "545Y5L3qVpz4"
      },
      "source": [
        "# Dos propiedades de la transposición\n",
        "\n",
        "Recuerde que `~A` es la transpuesta de `A`.\n",
        "\n",
        "Verfique que\n",
        "$$\n",
        "(A+B)^T=A^{T}+B^{T}\n",
        "$$"
      ]
    },
    {
      "cell_type": "code",
      "execution_count": 74,
      "metadata": {
        "autoscroll": false,
        "ein.hycell": false,
        "ein.tags": "worksheet-0",
        "id": "cQKD0ad-Vpz5",
        "colab": {
          "base_uri": "https://localhost:8080/",
          "height": 98
        },
        "outputId": "63c2a66c-47c8-434f-bbe5-dc1cfa99e2fb"
      },
      "outputs": [
        {
          "output_type": "execute_result",
          "data": {
            "text/plain": [
              "<IPython.core.display.Latex object>"
            ],
            "text/latex": "\\left[ \\begin{array}{ccccc}8&8&12&7&16\\\\8&8&12&7&16\\\\11&8&6&12&10\\\\11&8&6&12&10\\\\ \\end{array} \\right]"
          },
          "metadata": {},
          "execution_count": 74
        }
      ],
      "source": [
        "# escriba aquí la parte izquierda de la ecuación: ~(A + B)\n",
        "Latex(latex(~(A+B)))"
      ]
    },
    {
      "cell_type": "code",
      "execution_count": 75,
      "metadata": {
        "autoscroll": false,
        "ein.hycell": false,
        "ein.tags": "worksheet-0",
        "id": "P8MSW33aVpz6",
        "colab": {
          "base_uri": "https://localhost:8080/",
          "height": 98
        },
        "outputId": "75f6d8ee-9778-4f4f-dd77-11bda2de180e"
      },
      "outputs": [
        {
          "output_type": "execute_result",
          "data": {
            "text/plain": [
              "<IPython.core.display.Latex object>"
            ],
            "text/latex": "\\left[ \\begin{array}{ccccc}8&8&12&7&16\\\\8&8&12&7&16\\\\11&8&6&12&10\\\\11&8&6&12&10\\\\ \\end{array} \\right]"
          },
          "metadata": {},
          "execution_count": 75
        }
      ],
      "source": [
        "# escriba aquí la parte derecha de la ecuación\n",
        "Latex(latex(~A+~B))"
      ]
    },
    {
      "cell_type": "markdown",
      "metadata": {
        "ein.tags": "worksheet-0",
        "id": "g2A04WcFVpz6"
      },
      "source": [
        "¿Necesitamos usar paréntesis para el lado izquierdo? ¿Y para el derecho?"
      ]
    },
    {
      "cell_type": "markdown",
      "metadata": {
        "ein.tags": "worksheet-0",
        "id": "ZcOfdLECVpz7"
      },
      "source": [
        "Decida un valor para $\\lambda$ y verfique que\n",
        "$$\n",
        "(\\lambda A)^T=\\lambda(A^{T})\n",
        "$$"
      ]
    },
    {
      "cell_type": "code",
      "execution_count": 76,
      "metadata": {
        "autoscroll": false,
        "ein.hycell": false,
        "ein.tags": "worksheet-0",
        "id": "SVar9B-6Vpz7",
        "colab": {
          "base_uri": "https://localhost:8080/",
          "height": 98
        },
        "outputId": "f06424fa-2e09-403e-957b-2f58f3c41b47"
      },
      "outputs": [
        {
          "output_type": "execute_result",
          "data": {
            "text/plain": [
              "<IPython.core.display.Latex object>"
            ],
            "text/latex": "\\left[ \\begin{array}{ccccc}10&20&40&50&70\\\\70&60&80&20&90\\\\20&50&40&70&60\\\\90&30&20&50&40\\\\ \\end{array} \\right]"
          },
          "metadata": {},
          "execution_count": 76
        }
      ],
      "source": [
        "# escriba aquí la parte izquierda de la ecuación:\n",
        "lamb=10\n",
        "Latex(latex(~(lamb*A)))"
      ]
    },
    {
      "cell_type": "code",
      "execution_count": 77,
      "metadata": {
        "autoscroll": false,
        "ein.hycell": false,
        "ein.tags": "worksheet-0",
        "id": "06Eys9o2Vpz8",
        "colab": {
          "base_uri": "https://localhost:8080/",
          "height": 98
        },
        "outputId": "b5398ada-f434-41ed-c49e-4e1b772bee6a"
      },
      "outputs": [
        {
          "output_type": "execute_result",
          "data": {
            "text/plain": [
              "<IPython.core.display.Latex object>"
            ],
            "text/latex": "\\left[ \\begin{array}{ccccc}10&20&40&50&70\\\\70&60&80&20&90\\\\20&50&40&70&60\\\\90&30&20&50&40\\\\ \\end{array} \\right]"
          },
          "metadata": {},
          "execution_count": 77
        }
      ],
      "source": [
        "# escriba aquí la parte derecha de la ecuación\n",
        "Latex(latex(lamb*~A))"
      ]
    }
  ]
}