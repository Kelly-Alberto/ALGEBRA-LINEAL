{
  "nbformat": 4,
  "nbformat_minor": 0,
  "metadata": {
    "colab": {
      "provenance": []
    },
    "kernelspec": {
      "name": "python3",
      "display_name": "Python 3"
    },
    "language_info": {
      "name": "python"
    }
  },
  "cells": [
    {
      "cell_type": "markdown",
      "source": [
        "# **TAREA** **3**"
      ],
      "metadata": {
        "id": "7kL8VODWL2_z"
      }
    },
    {
      "cell_type": "code",
      "execution_count": 4,
      "metadata": {
        "colab": {
          "base_uri": "https://localhost:8080/"
        },
        "id": "XHXc2083LnX8",
        "outputId": "7f9a63dd-21cd-4526-db8a-2251a285466a"
      },
      "outputs": [
        {
          "output_type": "stream",
          "name": "stdout",
          "text": [
            "Collecting nacal\n",
            "  Downloading nacal-0.1.30-py3-none-any.whl (33 kB)\n",
            "Requirement already satisfied: sympy>=1.1.0 in /usr/local/lib/python3.10/dist-packages (from nacal) (1.12)\n",
            "Requirement already satisfied: mpmath>=0.19 in /usr/local/lib/python3.10/dist-packages (from sympy>=1.1.0->nacal) (1.3.0)\n",
            "Installing collected packages: nacal\n",
            "Successfully installed nacal-0.1.30\n"
          ]
        }
      ],
      "source": [
        "!pip install --target=$nb_path nacal\n",
        "from nacal import *\n",
        "from IPython.display import display, Math, Latex"
      ]
    },
    {
      "cell_type": "code",
      "source": [
        "a = Vector([5,3,7])\n",
        "b = Vector([2,5,3])\n",
        "c = Vector([8,3,9])\n",
        "A = Matrix([a,b,c])\n",
        "B = Matrix([c,b,a])\n",
        "display(Latex(latex(A)))"
      ],
      "metadata": {
        "colab": {
          "base_uri": "https://localhost:8080/",
          "height": 78
        },
        "id": "HUwoeOivM1b9",
        "outputId": "8e155b88-ba8c-46d7-a8b0-8bae84699f8c"
      },
      "execution_count": 5,
      "outputs": [
        {
          "output_type": "display_data",
          "data": {
            "text/plain": [
              "<IPython.core.display.Latex object>"
            ],
            "text/latex": "\\left[ \\begin{array}{ccc}5&2&8\\\\3&5&3\\\\7&3&9\\\\ \\end{array} \\right]"
          },
          "metadata": {}
        }
      ]
    },
    {
      "cell_type": "markdown",
      "source": [
        "Hemos visto varias propiedades que cumple la operación MATRIZ por vector\n",
        "\n",
        "Propiedades de linealidad en el vector\n",
        "\n",
        "1.-$$A(b+c)=Ab+Ac$$"
      ],
      "metadata": {
        "id": "zljDYRxeL9Eh"
      }
    },
    {
      "cell_type": "code",
      "source": [
        "display(Latex(latex(A*(b+c))))\n",
        "display(Latex(latex((A*b)+(A*c))))"
      ],
      "metadata": {
        "colab": {
          "base_uri": "https://localhost:8080/",
          "height": 139
        },
        "id": "aY59mJL1OpcA",
        "outputId": "371065a8-7ea4-4b17-ffe2-51cf72df5109"
      },
      "execution_count": 6,
      "outputs": [
        {
          "output_type": "display_data",
          "data": {
            "text/plain": [
              "<IPython.core.display.Latex object>"
            ],
            "text/latex": "\\begin{pmatrix}162\\\\ 106\\\\ 202\\end{pmatrix}"
          },
          "metadata": {}
        },
        {
          "output_type": "display_data",
          "data": {
            "text/plain": [
              "<IPython.core.display.Latex object>"
            ],
            "text/latex": "\\begin{pmatrix}162\\\\ 106\\\\ 202\\end{pmatrix}"
          },
          "metadata": {}
        }
      ]
    },
    {
      "cell_type": "markdown",
      "source": [
        "2.-$$A(λb)=λ(Ab)$$"
      ],
      "metadata": {
        "id": "bDSxYQMIg1fc"
      }
    },
    {
      "cell_type": "code",
      "source": [
        "lamb = 8\n",
        "display(Latex(latex(A*(lamb*b))))\n",
        "display(Latex(latex(lamb*(A*b))))"
      ],
      "metadata": {
        "colab": {
          "base_uri": "https://localhost:8080/",
          "height": 139
        },
        "id": "9s-BtLhFgtdt",
        "outputId": "05616865-afe9-44b7-b2c0-91425f78bce6"
      },
      "execution_count": 7,
      "outputs": [
        {
          "output_type": "display_data",
          "data": {
            "text/plain": [
              "<IPython.core.display.Latex object>"
            ],
            "text/latex": "\\begin{pmatrix}352\\\\ 320\\\\ 448\\end{pmatrix}"
          },
          "metadata": {}
        },
        {
          "output_type": "display_data",
          "data": {
            "text/plain": [
              "<IPython.core.display.Latex object>"
            ],
            "text/latex": "\\begin{pmatrix}352\\\\ 320\\\\ 448\\end{pmatrix}"
          },
          "metadata": {}
        }
      ]
    },
    {
      "cell_type": "markdown",
      "source": [
        "3.-$$A(Bc)=[A(B|1);...A(B|n)]c$$"
      ],
      "metadata": {
        "id": "GVNj3EwVkjmM"
      }
    },
    {
      "cell_type": "code",
      "source": [
        "display(Latex(latex(A*(B*c))))"
      ],
      "metadata": {
        "colab": {
          "base_uri": "https://localhost:8080/",
          "height": 78
        },
        "id": "pyd5dzAGlMD7",
        "outputId": "2360efc4-8df5-4bc1-d80b-c1567f3ea6e2"
      },
      "execution_count": 8,
      "outputs": [
        {
          "output_type": "display_data",
          "data": {
            "text/plain": [
              "<IPython.core.display.Latex object>"
            ],
            "text/latex": "\\begin{pmatrix}1859\\\\ 1107\\\\ 2299\\end{pmatrix}"
          },
          "metadata": {}
        }
      ]
    },
    {
      "cell_type": "markdown",
      "source": [
        "4.-$$(A+B)c=Ac+Bc$$"
      ],
      "metadata": {
        "id": "NCaUnsywlfX5"
      }
    },
    {
      "cell_type": "code",
      "source": [
        "display(Latex(latex((A+B)*c)))\n",
        "display(Latex(latex((A*c)+(B*c))))"
      ],
      "metadata": {
        "colab": {
          "base_uri": "https://localhost:8080/",
          "height": 139
        },
        "id": "y6vAaLCtlq5C",
        "outputId": "f2b44ca5-8b50-48ac-d04f-e90c66c6dd9c"
      },
      "execution_count": 9,
      "outputs": [
        {
          "output_type": "display_data",
          "data": {
            "text/plain": [
              "<IPython.core.display.Latex object>"
            ],
            "text/latex": "\\begin{pmatrix}233\\\\ 132\\\\ 290\\end{pmatrix}"
          },
          "metadata": {}
        },
        {
          "output_type": "display_data",
          "data": {
            "text/plain": [
              "<IPython.core.display.Latex object>"
            ],
            "text/latex": "\\begin{pmatrix}233\\\\ 132\\\\ 290\\end{pmatrix}"
          },
          "metadata": {}
        }
      ]
    },
    {
      "cell_type": "markdown",
      "source": [
        "5.-$$(λA)b=λ(Ab)$$"
      ],
      "metadata": {
        "id": "9gRC4Klolw9K"
      }
    },
    {
      "cell_type": "code",
      "source": [
        "display(Latex(latex((A+B)*c)))\n",
        "display(Latex(latex((A*c)+(B*c))))"
      ],
      "metadata": {
        "colab": {
          "base_uri": "https://localhost:8080/",
          "height": 139
        },
        "id": "qswNu9_Nl8ai",
        "outputId": "ae7396ee-2715-4747-b100-5ad5d237ef4d"
      },
      "execution_count": 10,
      "outputs": [
        {
          "output_type": "display_data",
          "data": {
            "text/plain": [
              "<IPython.core.display.Latex object>"
            ],
            "text/latex": "\\begin{pmatrix}233\\\\ 132\\\\ 290\\end{pmatrix}"
          },
          "metadata": {}
        },
        {
          "output_type": "display_data",
          "data": {
            "text/plain": [
              "<IPython.core.display.Latex object>"
            ],
            "text/latex": "\\begin{pmatrix}233\\\\ 132\\\\ 290\\end{pmatrix}"
          },
          "metadata": {}
        }
      ]
    }
  ]
}