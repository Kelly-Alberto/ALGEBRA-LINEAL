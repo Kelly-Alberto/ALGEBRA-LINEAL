{
  "nbformat": 4,
  "nbformat_minor": 0,
  "metadata": {
    "colab": {
      "provenance": []
    },
    "kernelspec": {
      "name": "python3",
      "display_name": "Python 3"
    },
    "language_info": {
      "name": "python"
    }
  },
  "cells": [
    {
      "cell_type": "markdown",
      "source": [
        "# **TAREA 2**\n"
      ],
      "metadata": {
        "id": "oKNNqbg-z9nj"
      }
    },
    {
      "cell_type": "code",
      "execution_count": null,
      "metadata": {
        "colab": {
          "base_uri": "https://localhost:8080/"
        },
        "id": "kya2c3_Sz5uR",
        "outputId": "ffde1681-3239-49c2-e60b-8bc8a79a2778"
      },
      "outputs": [
        {
          "output_type": "stream",
          "name": "stdout",
          "text": [
            "Collecting nacal\n",
            "  Downloading nacal-0.1.30-py3-none-any.whl (33 kB)\n",
            "Requirement already satisfied: sympy>=1.1.0 in /usr/local/lib/python3.10/dist-packages (from nacal) (1.12)\n",
            "Requirement already satisfied: mpmath>=0.19 in /usr/local/lib/python3.10/dist-packages (from sympy>=1.1.0->nacal) (1.3.0)\n",
            "Installing collected packages: nacal\n",
            "Successfully installed nacal-0.1.30\n"
          ]
        }
      ],
      "source": [
        "!pip install --target=$nb_path nacal\n",
        "from nacal import *\n",
        "from IPython.display import display, Math, Latex"
      ]
    },
    {
      "cell_type": "markdown",
      "source": [
        "# EJERCICIO 4\n",
        "\n",
        "¿Cómo evalúa el módulo NAcAL las siguientes expresiones? (a)\n",
        "\n",
        "$$3*b|1$$\n",
        "\n"
      ],
      "metadata": {
        "id": "RUGNCMo4z7cZ"
      }
    },
    {
      "cell_type": "code",
      "source": [
        "b = Vector ([6,5,7,3,9])\n",
        "print(3*b|1)\n",
        "print(3*1|b)\n",
        "print(1*3|b)\n",
        "print(1|b*3)"
      ],
      "metadata": {
        "colab": {
          "base_uri": "https://localhost:8080/"
        },
        "id": "gsHj_WNj-lot",
        "outputId": "dfc0e1ad-01f9-4ec2-d726-a0c247df3ab2"
      },
      "execution_count": 3,
      "outputs": [
        {
          "output_type": "stream",
          "name": "stdout",
          "text": [
            "18\n",
            "7\n",
            "7\n",
            "18\n"
          ]
        }
      ]
    },
    {
      "cell_type": "markdown",
      "source": [
        "# EJERCICIO 6\n",
        "Demuestre las propiedades de la siguiente proposición.\n",
        "\n",
        "Proposición 1.5.1 (Propiedades de las operaciones entre matrices). Para cualesquiera matrices A, B y C de idéntico orden y para cualesquiera escalares λ y η, se verifica que:"
      ],
      "metadata": {
        "id": "1o0Nm_VD-880"
      }
    },
    {
      "cell_type": "code",
      "source": [
        "a = Vector([5,2,6,4,3])\n",
        "b = Vector([9,12,36,14,7])\n",
        "c = Vector([14,1,2,17,13])\n",
        "A = Matrix([a,b,c])\n",
        "B = Matrix([c,b,a])\n",
        "C = Matrix([b,a,c])\n",
        "display(Latex(latex(A)))\n",
        "display(Latex(latex(B)))\n",
        "display(Latex(latex(C)))"
      ],
      "metadata": {
        "colab": {
          "base_uri": "https://localhost:8080/",
          "height": 322
        },
        "id": "5xR74zvI_oHU",
        "outputId": "def4eb7e-2ef9-4610-f66d-5e64571b1d9b"
      },
      "execution_count": 6,
      "outputs": [
        {
          "output_type": "display_data",
          "data": {
            "text/plain": [
              "<IPython.core.display.Latex object>"
            ],
            "text/latex": "\\left[ \\begin{array}{ccc}5&9&14\\\\2&12&1\\\\6&36&2\\\\4&14&17\\\\3&7&13\\\\ \\end{array} \\right]"
          },
          "metadata": {}
        },
        {
          "output_type": "display_data",
          "data": {
            "text/plain": [
              "<IPython.core.display.Latex object>"
            ],
            "text/latex": "\\left[ \\begin{array}{ccc}14&9&5\\\\1&12&2\\\\2&36&6\\\\17&14&4\\\\13&7&3\\\\ \\end{array} \\right]"
          },
          "metadata": {}
        },
        {
          "output_type": "display_data",
          "data": {
            "text/plain": [
              "<IPython.core.display.Latex object>"
            ],
            "text/latex": "\\left[ \\begin{array}{ccc}9&5&14\\\\12&2&1\\\\36&6&2\\\\14&4&17\\\\7&3&13\\\\ \\end{array} \\right]"
          },
          "metadata": {}
        }
      ]
    },
    {
      "cell_type": "markdown",
      "source": [
        " 1.-$$A+B=B+A$$\n"
      ],
      "metadata": {
        "id": "mWz4iPrEBUqn"
      }
    },
    {
      "cell_type": "code",
      "source": [
        "display(Latex(latex(A+B)))\n",
        "display(Latex(latex(B+A)))"
      ],
      "metadata": {
        "colab": {
          "base_uri": "https://localhost:8080/",
          "height": 220
        },
        "id": "NkoJZLMUApZw",
        "outputId": "c3a1ac80-be75-4fb2-d0ab-9eb607c66805"
      },
      "execution_count": 7,
      "outputs": [
        {
          "output_type": "display_data",
          "data": {
            "text/plain": [
              "<IPython.core.display.Latex object>"
            ],
            "text/latex": "\\left[ \\begin{array}{ccc}19&18&19\\\\3&24&3\\\\8&72&8\\\\21&28&21\\\\16&14&16\\\\ \\end{array} \\right]"
          },
          "metadata": {}
        },
        {
          "output_type": "display_data",
          "data": {
            "text/plain": [
              "<IPython.core.display.Latex object>"
            ],
            "text/latex": "\\left[ \\begin{array}{ccc}19&18&19\\\\3&24&3\\\\8&72&8\\\\21&28&21\\\\16&14&16\\\\ \\end{array} \\right]"
          },
          "metadata": {}
        }
      ]
    },
    {
      "cell_type": "markdown",
      "source": [
        "2.-$$A+(B+C)=(A+B)+C$$"
      ],
      "metadata": {
        "id": "e7FG2YhgDrir"
      }
    },
    {
      "cell_type": "code",
      "source": [
        "display(Latex(latex(A+(B+C))))\n",
        "display(Latex(latex((A+B)+C)))"
      ],
      "metadata": {
        "colab": {
          "base_uri": "https://localhost:8080/",
          "height": 220
        },
        "id": "ZdRWWPb6Audd",
        "outputId": "0ef4abb0-68b2-4bdc-9c1b-d6068d0f956b"
      },
      "execution_count": 8,
      "outputs": [
        {
          "output_type": "display_data",
          "data": {
            "text/plain": [
              "<IPython.core.display.Latex object>"
            ],
            "text/latex": "\\left[ \\begin{array}{ccc}28&23&33\\\\15&26&4\\\\44&78&10\\\\35&32&38\\\\23&17&29\\\\ \\end{array} \\right]"
          },
          "metadata": {}
        },
        {
          "output_type": "display_data",
          "data": {
            "text/plain": [
              "<IPython.core.display.Latex object>"
            ],
            "text/latex": "\\left[ \\begin{array}{ccc}28&23&33\\\\15&26&4\\\\44&78&10\\\\35&32&38\\\\23&17&29\\\\ \\end{array} \\right]"
          },
          "metadata": {}
        }
      ]
    },
    {
      "cell_type": "markdown",
      "source": [
        "3.-$$0+A=A$$"
      ],
      "metadata": {
        "id": "JhHamDZCGli5"
      }
    },
    {
      "cell_type": "code",
      "source": [
        "display(Latex(latex(M0(5,3)+A)))\n",
        "Latex(latex(A))"
      ],
      "metadata": {
        "colab": {
          "base_uri": "https://localhost:8080/",
          "height": 220
        },
        "id": "tsGCuxsoA0oa",
        "outputId": "761107f3-17f6-408a-baec-3460edf0799c"
      },
      "execution_count": 9,
      "outputs": [
        {
          "output_type": "display_data",
          "data": {
            "text/plain": [
              "<IPython.core.display.Latex object>"
            ],
            "text/latex": "\\left[ \\begin{array}{ccc}5&9&14\\\\2&12&1\\\\6&36&2\\\\4&14&17\\\\3&7&13\\\\ \\end{array} \\right]"
          },
          "metadata": {}
        },
        {
          "output_type": "execute_result",
          "data": {
            "text/plain": [
              "<IPython.core.display.Latex object>"
            ],
            "text/latex": "\\left[ \\begin{array}{ccc}5&9&14\\\\2&12&1\\\\6&36&2\\\\4&14&17\\\\3&7&13\\\\ \\end{array} \\right]"
          },
          "metadata": {},
          "execution_count": 9
        }
      ]
    },
    {
      "cell_type": "markdown",
      "source": [
        "4.-$$A+(-A)=0$$"
      ],
      "metadata": {
        "id": "7EA4oqJOHcpw"
      }
    },
    {
      "cell_type": "code",
      "source": [
        "display(Latex(latex(A+(-A))))"
      ],
      "metadata": {
        "colab": {
          "base_uri": "https://localhost:8080/",
          "height": 119
        },
        "id": "Sljb05MzA5sv",
        "outputId": "f3efcbc6-7240-47ef-f6fe-0a3541a95eff"
      },
      "execution_count": 10,
      "outputs": [
        {
          "output_type": "display_data",
          "data": {
            "text/plain": [
              "<IPython.core.display.Latex object>"
            ],
            "text/latex": "\\left[ \\begin{array}{ccc}0&0&0\\\\0&0&0\\\\0&0&0\\\\0&0&0\\\\0&0&0\\\\ \\end{array} \\right]"
          },
          "metadata": {}
        }
      ]
    },
    {
      "cell_type": "markdown",
      "source": [
        "5.-$$λ(A+B)λA+λB$$"
      ],
      "metadata": {
        "id": "GTJZoHiIAl4Z"
      }
    },
    {
      "cell_type": "code",
      "source": [
        "lamb = 10\n",
        "display(Latex(latex(lamb*(A+B))))\n",
        "display(Latex(latex((lamb*A)+(lamb*B))))"
      ],
      "metadata": {
        "colab": {
          "base_uri": "https://localhost:8080/",
          "height": 220
        },
        "id": "-t53d6jEHqAW",
        "outputId": "745d3b8c-6783-4f7a-eaa2-2abb7b2a5ca1"
      },
      "execution_count": 11,
      "outputs": [
        {
          "output_type": "display_data",
          "data": {
            "text/plain": [
              "<IPython.core.display.Latex object>"
            ],
            "text/latex": "\\left[ \\begin{array}{ccc}190&180&190\\\\30&240&30\\\\80&720&80\\\\210&280&210\\\\160&140&160\\\\ \\end{array} \\right]"
          },
          "metadata": {}
        },
        {
          "output_type": "display_data",
          "data": {
            "text/plain": [
              "<IPython.core.display.Latex object>"
            ],
            "text/latex": "\\left[ \\begin{array}{ccc}190&180&190\\\\30&240&30\\\\80&720&80\\\\210&280&210\\\\160&140&160\\\\ \\end{array} \\right]"
          },
          "metadata": {}
        }
      ]
    },
    {
      "cell_type": "markdown",
      "source": [
        "6.- $$(λ+η)A=λA+ηB$$"
      ],
      "metadata": {
        "id": "lyjHokHAJa5E"
      }
    },
    {
      "cell_type": "code",
      "source": [
        "lamb=7\n",
        "n = 8\n",
        "display(Latex(latex(((lamb+n)*A))))\n",
        "display(Latex(latex((lamb*A)+(n*A))))"
      ],
      "metadata": {
        "colab": {
          "base_uri": "https://localhost:8080/",
          "height": 220
        },
        "id": "YGrEB17dJZ9h",
        "outputId": "9664b634-07cf-4033-e620-514d1c18beed"
      },
      "execution_count": 12,
      "outputs": [
        {
          "output_type": "display_data",
          "data": {
            "text/plain": [
              "<IPython.core.display.Latex object>"
            ],
            "text/latex": "\\left[ \\begin{array}{ccc}75&135&210\\\\30&180&15\\\\90&540&30\\\\60&210&255\\\\45&105&195\\\\ \\end{array} \\right]"
          },
          "metadata": {}
        },
        {
          "output_type": "display_data",
          "data": {
            "text/plain": [
              "<IPython.core.display.Latex object>"
            ],
            "text/latex": "\\left[ \\begin{array}{ccc}75&135&210\\\\30&180&15\\\\90&540&30\\\\60&210&255\\\\45&105&195\\\\ \\end{array} \\right]"
          },
          "metadata": {}
        }
      ]
    },
    {
      "cell_type": "markdown",
      "source": [
        "7.-$$λ(ηA)=(λη)A$$"
      ],
      "metadata": {
        "id": "pz__IsH6KDbf"
      }
    },
    {
      "cell_type": "code",
      "source": [
        "display(Latex(latex(lamb*(n*A))))\n",
        "display(Latex(latex((lamb*n)*A)))"
      ],
      "metadata": {
        "colab": {
          "base_uri": "https://localhost:8080/",
          "height": 220
        },
        "id": "6a1-EeBVJ_1l",
        "outputId": "de137e8e-0e71-46b2-a8f5-25d1945affe3"
      },
      "execution_count": 13,
      "outputs": [
        {
          "output_type": "display_data",
          "data": {
            "text/plain": [
              "<IPython.core.display.Latex object>"
            ],
            "text/latex": "\\left[ \\begin{array}{ccc}280&504&784\\\\112&672&56\\\\336&2016&112\\\\224&784&952\\\\168&392&728\\\\ \\end{array} \\right]"
          },
          "metadata": {}
        },
        {
          "output_type": "display_data",
          "data": {
            "text/plain": [
              "<IPython.core.display.Latex object>"
            ],
            "text/latex": "\\left[ \\begin{array}{ccc}280&504&784\\\\112&672&56\\\\336&2016&112\\\\224&784&952\\\\168&392&728\\\\ \\end{array} \\right]"
          },
          "metadata": {}
        }
      ]
    },
    {
      "cell_type": "markdown",
      "source": [
        "8.-$$1A=A$$"
      ],
      "metadata": {
        "id": "LsOhftyXKati"
      }
    },
    {
      "cell_type": "code",
      "source": [
        "display(Latex(latex(1*A)))\n",
        "display(Latex(latex(A)))"
      ],
      "metadata": {
        "colab": {
          "base_uri": "https://localhost:8080/",
          "height": 220
        },
        "id": "I-LPLKJNKZlX",
        "outputId": "9b8d8cd5-4e7f-423b-dfbb-01fe22032b61"
      },
      "execution_count": 14,
      "outputs": [
        {
          "output_type": "display_data",
          "data": {
            "text/plain": [
              "<IPython.core.display.Latex object>"
            ],
            "text/latex": "\\left[ \\begin{array}{ccc}5&9&14\\\\2&12&1\\\\6&36&2\\\\4&14&17\\\\3&7&13\\\\ \\end{array} \\right]"
          },
          "metadata": {}
        },
        {
          "output_type": "display_data",
          "data": {
            "text/plain": [
              "<IPython.core.display.Latex object>"
            ],
            "text/latex": "\\left[ \\begin{array}{ccc}5&9&14\\\\2&12&1\\\\6&36&2\\\\4&14&17\\\\3&7&13\\\\ \\end{array} \\right]"
          },
          "metadata": {}
        }
      ]
    }
  ]
}